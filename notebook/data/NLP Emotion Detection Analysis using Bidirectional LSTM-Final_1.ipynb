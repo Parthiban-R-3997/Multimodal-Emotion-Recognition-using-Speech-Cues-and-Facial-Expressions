{
 "cells": [
  {
   "cell_type": "code",
   "execution_count": 1,
   "id": "23a456ab",
   "metadata": {},
   "outputs": [
    {
     "name": "stderr",
     "output_type": "stream",
     "text": [
      "H:\\Anaconda\\envs\\NLP\\lib\\site-packages\\tensorflow\\python\\framework\\dtypes.py:469: FutureWarning: Passing (type, 1) or '1type' as a synonym of type is deprecated; in a future version of numpy, it will be understood as (type, (1,)) / '(1,)type'.\n",
      "  _np_qint8 = np.dtype([(\"qint8\", np.int8, 1)])\n",
      "H:\\Anaconda\\envs\\NLP\\lib\\site-packages\\tensorflow\\python\\framework\\dtypes.py:470: FutureWarning: Passing (type, 1) or '1type' as a synonym of type is deprecated; in a future version of numpy, it will be understood as (type, (1,)) / '(1,)type'.\n",
      "  _np_quint8 = np.dtype([(\"quint8\", np.uint8, 1)])\n",
      "H:\\Anaconda\\envs\\NLP\\lib\\site-packages\\tensorflow\\python\\framework\\dtypes.py:471: FutureWarning: Passing (type, 1) or '1type' as a synonym of type is deprecated; in a future version of numpy, it will be understood as (type, (1,)) / '(1,)type'.\n",
      "  _np_qint16 = np.dtype([(\"qint16\", np.int16, 1)])\n",
      "H:\\Anaconda\\envs\\NLP\\lib\\site-packages\\tensorflow\\python\\framework\\dtypes.py:472: FutureWarning: Passing (type, 1) or '1type' as a synonym of type is deprecated; in a future version of numpy, it will be understood as (type, (1,)) / '(1,)type'.\n",
      "  _np_quint16 = np.dtype([(\"quint16\", np.uint16, 1)])\n",
      "H:\\Anaconda\\envs\\NLP\\lib\\site-packages\\tensorflow\\python\\framework\\dtypes.py:473: FutureWarning: Passing (type, 1) or '1type' as a synonym of type is deprecated; in a future version of numpy, it will be understood as (type, (1,)) / '(1,)type'.\n",
      "  _np_qint32 = np.dtype([(\"qint32\", np.int32, 1)])\n",
      "H:\\Anaconda\\envs\\NLP\\lib\\site-packages\\tensorflow\\python\\framework\\dtypes.py:476: FutureWarning: Passing (type, 1) or '1type' as a synonym of type is deprecated; in a future version of numpy, it will be understood as (type, (1,)) / '(1,)type'.\n",
      "  np_resource = np.dtype([(\"resource\", np.ubyte, 1)])\n",
      "Using TensorFlow backend.\n"
     ]
    }
   ],
   "source": [
    "import nltk\n",
    "import numpy as np\n",
    "from nltk.corpus import stopwords\n",
    "from nltk.stem import PorterStemmer\n",
    "from nltk.stem import WordNetLemmatizer\n",
    "from nltk.tokenize import word_tokenize\n",
    "import tensorflow as tf\n",
    "import keras\n",
    "from tensorflow.contrib.keras import layers\n",
    "from tensorflow.contrib.keras import preprocessing\n",
    "from tensorflow.contrib.keras import models\n",
    "from keras.models import Sequential\n",
    "from keras.layers import Dense, Dropout, Embedding, LSTM, Bidirectional\n",
    "from keras.models import load_model\n",
    "from keras.preprocessing.text import one_hot\n",
    "import re\n",
    "from keras.layers import Flatten\n",
    "import keras.optimizers as optimizers\n",
    "from keras.preprocessing.text import Tokenizer\n",
    "from keras.preprocessing.sequence import pad_sequences\n",
    "from keras.callbacks import EarlyStopping\n",
    "from sklearn.metrics import confusion_matrix,accuracy_score\n",
    "from sklearn.metrics import classification_report\n",
    "import datetime\n",
    "import time\n",
    "import pandas as pd\n",
    "import numpy as mp\n",
    "import matplotlib.pyplot as plt\n",
    "import wave\n",
    "import datetime\n",
    "import speech_recognition as sr"
   ]
  },
  {
   "cell_type": "code",
   "execution_count": 2,
   "id": "3b38b4cf",
   "metadata": {},
   "outputs": [
    {
     "name": "stderr",
     "output_type": "stream",
     "text": [
      "[nltk_data] Downloading package stopwords to\n",
      "[nltk_data]     C:\\Users\\rpart\\AppData\\Roaming\\nltk_data...\n",
      "[nltk_data]   Package stopwords is already up-to-date!\n",
      "[nltk_data] Downloading package punkt to\n",
      "[nltk_data]     C:\\Users\\rpart\\AppData\\Roaming\\nltk_data...\n",
      "[nltk_data]   Package punkt is already up-to-date!\n"
     ]
    },
    {
     "data": {
      "text/plain": [
       "True"
      ]
     },
     "execution_count": 2,
     "metadata": {},
     "output_type": "execute_result"
    }
   ],
   "source": [
    "#Download NLTK resources \n",
    "nltk.download('stopwords')\n",
    "nltk.download('punkt')"
   ]
  },
  {
   "cell_type": "code",
   "execution_count": 3,
   "id": "bdc03c8c",
   "metadata": {},
   "outputs": [],
   "source": [
    "def preprocess_text(texts):\n",
    "    ps = PorterStemmer()\n",
    "    stop_words = set(stopwords.words('english'))\n",
    "    corpus = []\n",
    "    for text in texts:\n",
    "        review = re.sub('[^a-zA-Z]', ' ', text.lower())\n",
    "        review = review.split()\n",
    "        review = [ps.stem(word) for word in review if word not in stop_words]\n",
    "        review = ' '.join(review)\n",
    "        corpus.append(review)\n",
    "\n",
    "    return corpus\n",
    "\n",
    "\n",
    "def preprocess_dataset(filename):\n",
    "    data = pd.read_csv(filename)\n",
    "    texts = data['text'].values\n",
    "    labels = data['label'].values\n",
    "\n",
    "    # Preprocess the text data\n",
    "    preprocessed_texts = preprocess_text(texts)\n",
    "\n",
    "    # Convert text to sequences\n",
    "    voc_size = 5000\n",
    "    onehot_repr = [one_hot(words, voc_size) for words in preprocessed_texts]\n",
    "\n",
    "    # Pad sequences for uniform length\n",
    "    #max_sequence_length = max(len(seq) for seq in onehot_repr)\n",
    "    max_sequence_length = 200\n",
    "    #print(max_sequence_length)  ## 35 is max length\n",
    "    padded_sequences = pad_sequences(onehot_repr, padding='pre', maxlen=max_sequence_length)\n",
    "\n",
    "    # Convert labels to one-hot encoded vectors\n",
    "    num_classes = len(set(labels))\n",
    "    labels = tf.keras.utils.to_categorical(labels, num_classes)\n",
    "\n",
    "    return padded_sequences, labels, max_sequence_length, voc_size"
   ]
  },
  {
   "cell_type": "code",
   "execution_count": 4,
   "id": "de96bcc6",
   "metadata": {},
   "outputs": [],
   "source": [
    "train_data, train_labels, max_sequence_length, voc_size = preprocess_dataset('training.csv')"
   ]
  },
  {
   "cell_type": "code",
   "execution_count": 5,
   "id": "278a2e43",
   "metadata": {},
   "outputs": [],
   "source": [
    "val_data, val_labels, val_max_sequence_length, voc_size = preprocess_dataset('validation.csv')\n"
   ]
  },
  {
   "cell_type": "code",
   "execution_count": 6,
   "id": "5f65a4cd",
   "metadata": {},
   "outputs": [],
   "source": [
    "test_data, test_labels, test_max_sequence_length, voc_size = preprocess_dataset('test.csv')"
   ]
  },
  {
   "cell_type": "code",
   "execution_count": 7,
   "id": "0c57bdda",
   "metadata": {},
   "outputs": [
    {
     "name": "stdout",
     "output_type": "stream",
     "text": [
      "_________________________________________________________________\n",
      "Layer (type)                 Output Shape              Param #   \n",
      "=================================================================\n",
      "embedding_1 (Embedding)      (None, 200, 300)          1500000   \n",
      "_________________________________________________________________\n",
      "bidirectional_1 (Bidirection (None, 200, 1024)         3330048   \n",
      "_________________________________________________________________\n",
      "bidirectional_2 (Bidirection (None, 200, 512)          2623488   \n",
      "_________________________________________________________________\n",
      "bidirectional_3 (Bidirection (None, 256)               656384    \n",
      "_________________________________________________________________\n",
      "dense_1 (Dense)              (None, 6)                 1542      \n",
      "=================================================================\n",
      "Total params: 8,111,462\n",
      "Trainable params: 8,111,462\n",
      "Non-trainable params: 0\n",
      "_________________________________________________________________\n",
      "None\n"
     ]
    }
   ],
   "source": [
    "# Creating the model\n",
    "embedding_vector_features = 300  # Feature representation\n",
    "model = Sequential()\n",
    "model.add(Embedding(voc_size, embedding_vector_features, input_length=max_sequence_length))\n",
    "model.add(Bidirectional(LSTM(512, dropout=0.3, return_sequences=True)))\n",
    "model.add(Bidirectional(LSTM(256, dropout=0.3, return_sequences=True)))\n",
    "model.add(Bidirectional(LSTM(128, dropout=0.3)))\n",
    "model.add(Dense(6, activation='sigmoid'))\n",
    "\n",
    "optimizer = optimizers.Adam(lr=0.005)\n",
    "model.compile(loss='categorical_crossentropy', optimizer=optimizer, metrics=['accuracy'])\n",
    "\n",
    "print(model.summary())"
   ]
  },
  {
   "cell_type": "code",
   "execution_count": 8,
   "id": "67f60d24",
   "metadata": {},
   "outputs": [],
   "source": [
    "X_train_final=np.array(train_data)\n",
    "y_train_final=np.array(train_labels)"
   ]
  },
  {
   "cell_type": "code",
   "execution_count": 9,
   "id": "d7496253",
   "metadata": {},
   "outputs": [],
   "source": [
    "X_valid_final=np.array(val_data)\n",
    "y_valid_final=np.array(val_labels)"
   ]
  },
  {
   "cell_type": "code",
   "execution_count": 10,
   "id": "144783e4",
   "metadata": {},
   "outputs": [],
   "source": [
    "X_test_final=np.array(test_data)\n",
    "y_test_final=np.array(test_labels)"
   ]
  },
  {
   "cell_type": "code",
   "execution_count": null,
   "id": "0880dbc1",
   "metadata": {},
   "outputs": [],
   "source": [
    "# Convert labels to integer format (For sparse categorical cross entropy)\n",
    "#y_train_final = np.argmax(y_train_final, axis=1)\n",
    "#y_valid_final = np.argmax(y_valid_final, axis=1)\n",
    "#y_test_final = np.argmax(y_test_final, axis=1)"
   ]
  },
  {
   "cell_type": "code",
   "execution_count": null,
   "id": "628ae887",
   "metadata": {},
   "outputs": [],
   "source": [
    "# Convert the target data to one-hot encoded labels  (For categorical cross entropy)\n",
    "#y_train_final_encoded = tf.keras.utils.to_categorical(y_train_final, num_classes=6)\n",
    "#y_valid_final_encoded = tf.keras.utils.to_categorical(y_valid_final, num_classes=6)"
   ]
  },
  {
   "cell_type": "code",
   "execution_count": 11,
   "id": "62a5f701",
   "metadata": {},
   "outputs": [
    {
     "data": {
      "text/plain": [
       "(16000, 6)"
      ]
     },
     "execution_count": 11,
     "metadata": {},
     "output_type": "execute_result"
    }
   ],
   "source": [
    "y_train_final.shape"
   ]
  },
  {
   "cell_type": "code",
   "execution_count": 12,
   "id": "bc2f0267",
   "metadata": {},
   "outputs": [
    {
     "name": "stdout",
     "output_type": "stream",
     "text": [
      "Train on 16000 samples, validate on 2000 samples\n",
      "Epoch 1/30\n",
      "16000/16000 [==============================] - 638s 40ms/step - loss: 1.5834 - acc: 0.3335 - val_loss: 1.5459 - val_acc: 0.3520\n",
      "Epoch 2/30\n",
      "16000/16000 [==============================] - 627s 39ms/step - loss: 1.4880 - acc: 0.3414 - val_loss: 1.4256 - val_acc: 0.3635\n",
      "Epoch 3/30\n",
      "16000/16000 [==============================] - 629s 39ms/step - loss: 1.2615 - acc: 0.4011 - val_loss: 1.1766 - val_acc: 0.4410\n",
      "Epoch 4/30\n",
      "16000/16000 [==============================] - 627s 39ms/step - loss: 1.0762 - acc: 0.4471 - val_loss: 1.0752 - val_acc: 0.4610\n",
      "Epoch 5/30\n",
      "16000/16000 [==============================] - 629s 39ms/step - loss: 0.8376 - acc: 0.6159 - val_loss: 0.7080 - val_acc: 0.7240\n",
      "Epoch 6/30\n",
      "16000/16000 [==============================] - 630s 39ms/step - loss: 0.5858 - acc: 0.7551 - val_loss: 0.6631 - val_acc: 0.7540\n",
      "Epoch 7/30\n",
      "16000/16000 [==============================] - 625s 39ms/step - loss: 0.5086 - acc: 0.7801 - val_loss: 0.6103 - val_acc: 0.7570\n",
      "Epoch 8/30\n",
      "16000/16000 [==============================] - 629s 39ms/step - loss: 0.4446 - acc: 0.8026 - val_loss: 0.5821 - val_acc: 0.7715\n",
      "Epoch 9/30\n",
      "16000/16000 [==============================] - 627s 39ms/step - loss: 0.3646 - acc: 0.8483 - val_loss: 0.5359 - val_acc: 0.8315\n",
      "Epoch 10/30\n",
      "16000/16000 [==============================] - 630s 39ms/step - loss: 0.2735 - acc: 0.9074 - val_loss: 0.4543 - val_acc: 0.8495\n",
      "Epoch 11/30\n",
      "16000/16000 [==============================] - 626s 39ms/step - loss: 0.2903 - acc: 0.9045 - val_loss: 0.4542 - val_acc: 0.8490\n",
      "Epoch 12/30\n",
      "16000/16000 [==============================] - 626s 39ms/step - loss: 0.2337 - acc: 0.9234 - val_loss: 0.4971 - val_acc: 0.8555\n",
      "Epoch 13/30\n",
      "16000/16000 [==============================] - 626s 39ms/step - loss: 0.1948 - acc: 0.9344 - val_loss: 0.4695 - val_acc: 0.8510\n",
      "Epoch 14/30\n",
      "16000/16000 [==============================] - 626s 39ms/step - loss: 0.1770 - acc: 0.9382 - val_loss: 0.4722 - val_acc: 0.8550\n",
      "Epoch 15/30\n",
      "16000/16000 [==============================] - 630s 39ms/step - loss: 0.1557 - acc: 0.9432 - val_loss: 0.5011 - val_acc: 0.8495\n"
     ]
    }
   ],
   "source": [
    "### Finally Training\n",
    "callback = EarlyStopping(\n",
    "    monitor=\"val_loss\",\n",
    "    patience=4\n",
    ")\n",
    "history = model.fit(X_train_final, y_train_final, validation_data=(X_valid_final, y_valid_final), epochs=30,\n",
    "                    batch_size=128,callbacks=[callback])"
   ]
  },
  {
   "cell_type": "code",
   "execution_count": 13,
   "id": "6d6a93f3",
   "metadata": {},
   "outputs": [
    {
     "data": {
      "image/png": "[encoded data removed]",
      "text/plain": [
       "<Figure size 432x288 with 1 Axes>"
      ]
     },
     "metadata": {
      "needs_background": "light"
     },
     "output_type": "display_data"
    },
    {
     "data": {
      "image/png": "[encoded data removed]",
      "text/plain": [
       "<Figure size 432x288 with 1 Axes>"
      ]
     },
     "metadata": {
      "needs_background": "light"
     },
     "output_type": "display_data"
    }
   ],
   "source": [
    "# Plot training & validation accuracy values\n",
    "plt.plot(history.history['acc'])\n",
    "plt.plot(history.history['val_acc'])\n",
    "plt.title('Model accuracy')\n",
    "plt.ylabel('Accuracy')\n",
    "plt.xlabel('Epoch')\n",
    "plt.legend(['Train', 'Validation'], loc='upper left')\n",
    "plt.show()\n",
    "\n",
    "# Plot training & validation loss values\n",
    "plt.plot(history.history['loss'])\n",
    "plt.plot(history.history['val_loss'])\n",
    "plt.title('Model loss')\n",
    "plt.ylabel('Loss')\n",
    "plt.xlabel('Epoch')\n",
    "plt.legend(['Train', 'Validation'], loc='upper left')\n",
    "plt.show()"
   ]
  },
  {
   "cell_type": "code",
   "execution_count": 14,
   "id": "13e94d03",
   "metadata": {},
   "outputs": [
    {
     "name": "stdout",
     "output_type": "stream",
     "text": [
      "2000/2000 [==============================] - 41s 21ms/step\n",
      "Test loss: 0.5717\n",
      "Test accuracy: 0.8365\n"
     ]
    }
   ],
   "source": [
    "# Evaluate the model on the test dataset\n",
    "loss, accuracy = model.evaluate(X_test_final, y_test_final)\n",
    "print(f'Test loss: {loss:.4f}')\n",
    "print(f'Test accuracy: {accuracy:.4f}')"
   ]
  },
  {
   "cell_type": "code",
   "execution_count": 15,
   "id": "2381c780",
   "metadata": {},
   "outputs": [
    {
     "name": "stdout",
     "output_type": "stream",
     "text": [
      "2000/2000 [==============================] - 42s 21ms/step\n"
     ]
    }
   ],
   "source": [
    "y_pred=model.predict_classes(X_test_final)"
   ]
  },
  {
   "cell_type": "code",
   "execution_count": 16,
   "id": "14c50a14",
   "metadata": {},
   "outputs": [],
   "source": [
    "# Convert one-hot encoded labels to class labels\n",
    "y_true = np.argmax(y_test_final, axis=1)"
   ]
  },
  {
   "cell_type": "code",
   "execution_count": 17,
   "id": "d119ade6",
   "metadata": {},
   "outputs": [
    {
     "data": {
      "text/plain": [
       "array([[506,  35,  12,  13,  14,   1],\n",
       "       [ 17, 596,  51,  13,   9,   9],\n",
       "       [ 11,  37, 107,   3,   1,   0],\n",
       "       [ 33,   8,   4, 217,  12,   1],\n",
       "       [ 12,   1,   0,   3, 192,  16],\n",
       "       [  1,   2,   0,   0,   8,  55]], dtype=int64)"
      ]
     },
     "execution_count": 17,
     "metadata": {},
     "output_type": "execute_result"
    }
   ],
   "source": [
    "confusion_matrix(y_true, y_pred)"
   ]
  },
  {
   "cell_type": "code",
   "execution_count": 18,
   "id": "b9f0d4ff",
   "metadata": {},
   "outputs": [],
   "source": [
    "class_names = {\n",
    "    'sadness':0,\n",
    "    'joy':1,\n",
    "    'love':2,\n",
    "    'anger':3,\n",
    "    'fear':4,\n",
    "    'surprise':5\n",
    "}"
   ]
  },
  {
   "cell_type": "code",
   "execution_count": 19,
   "id": "53c4667c",
   "metadata": {},
   "outputs": [
    {
     "name": "stdout",
     "output_type": "stream",
     "text": [
      "              precision    recall  f1-score   support\n",
      "\n",
      "     sadness       0.87      0.87      0.87       581\n",
      "         joy       0.88      0.86      0.87       695\n",
      "        love       0.61      0.67      0.64       159\n",
      "       anger       0.87      0.79      0.83       275\n",
      "        fear       0.81      0.86      0.83       224\n",
      "    surprise       0.67      0.83      0.74        66\n",
      "\n",
      "    accuracy                           0.84      2000\n",
      "   macro avg       0.79      0.81      0.80      2000\n",
      "weighted avg       0.84      0.84      0.84      2000\n",
      "\n"
     ]
    }
   ],
   "source": [
    "# Compute the classification report\n",
    "report = classification_report(y_true, y_pred,target_names=class_names)\n",
    "\n",
    "# Print the classification report\n",
    "print(report)"
   ]
  },
  {
   "cell_type": "code",
   "execution_count": 20,
   "id": "70fef183",
   "metadata": {},
   "outputs": [],
   "source": [
    "# Save the model\n",
    "model.save('NLP_Emotion_Detection_Bidirectional_LSTM_final_1.h5')"
   ]
  },
  {
   "cell_type": "code",
   "execution_count": 21,
   "id": "1f101338",
   "metadata": {},
   "outputs": [],
   "source": [
    "# Load the saved model\n",
    "model = load_model('NLP_Emotion_Detection_Bidirectional_LSTM_final_1.h5')"
   ]
  },
  {
   "cell_type": "code",
   "execution_count": 22,
   "id": "a1e685e1",
   "metadata": {},
   "outputs": [
    {
     "name": "stdout",
     "output_type": "stream",
     "text": [
      "Listening...\n",
      "result2:\n",
      "[]\n",
      "No speech detected.\n",
      "Listening...\n",
      "result2:\n",
      "[]\n",
      "No speech detected.\n",
      "Listening...\n",
      "result2:\n",
      "[]\n",
      "No speech detected.\n",
      "Listening...\n",
      "result2:\n",
      "[]\n",
      "No speech detected.\n",
      "Listening...\n",
      "result2:\n",
      "[]\n",
      "No speech detected.\n",
      "Listening...\n",
      "result2:\n",
      "[]\n",
      "No speech detected.\n",
      "Listening...\n",
      "result2:\n",
      "{   'alternative': [   {   'confidence': 0.94643229,\n",
      "                           'transcript': 'serious it with near you say which '\n",
      "                                         'made the people more disgusted'},\n",
      "                       {   'transcript': 'serious it with near you say which '\n",
      "                                         'made the people more disgusting'},\n",
      "                       {   'transcript': 'serious at work near you say which '\n",
      "                                         'made the people more disgusted'},\n",
      "                       {   'transcript': 'serious near you say which made the '\n",
      "                                         'people more disgusted'},\n",
      "                       {   'transcript': 'serious it with near you Sadia which '\n",
      "                                         'made the people more disgusted'}],\n",
      "    'final': True}\n",
      "Recognized speech: serious it with near you say which made the people more disgusted\n",
      "Predicted Sentiment: anger\n",
      "Prediction Probabilities:\n",
      "sadness: 0.00776032404974103\n",
      "joy: 0.0011120786657556891\n",
      "love: 0.001435922458767891\n",
      "anger: 0.6236094832420349\n",
      "fear: 0.0038843455258756876\n",
      "surprise: 5.292894798003545e-07\n",
      "\n",
      "Listening...\n",
      "result2:\n",
      "{   'alternative': [   {   'confidence': 0.94790804,\n",
      "                           'transcript': 'series 8 quick in USA which made '\n",
      "                                         'people more Athletic'},\n",
      "                       {   'transcript': 'series 8 quick in USA which made the '\n",
      "                                         'people more Athletic'},\n",
      "                       {   'transcript': 'there was a series 8 quick in USA '\n",
      "                                         'which made people more Athletic'},\n",
      "                       {   'transcript': 'series 8 quick in USA which made the '\n",
      "                                         'people more attic'},\n",
      "                       {   'transcript': 'there was a series 8 quick in USA '\n",
      "                                         'which made the people more '\n",
      "                                         'Athletic'}],\n",
      "    'final': True}\n",
      "Recognized speech: series 8 quick in USA which made people more Athletic\n",
      "Predicted Sentiment: joy\n",
      "Prediction Probabilities:\n",
      "sadness: 0.004562931135296822\n",
      "joy: 0.07074825465679169\n",
      "love: 0.0016002815682440996\n",
      "anger: 0.002116548363119364\n",
      "fear: 0.0009809242328628898\n",
      "surprise: 0.0006667696288786829\n",
      "\n",
      "Listening...\n",
      "result2:\n",
      "[]\n",
      "No speech detected.\n",
      "Listening...\n",
      "result2:\n",
      "{   'alternative': [   {   'confidence': 0.94529426,\n",
      "                           'transcript': 'there was a serious earthquake near '\n",
      "                                         'Los Angeles which made the people '\n",
      "                                         'more tactic'},\n",
      "                       {   'transcript': 'there was a serious earthquake near '\n",
      "                                         'Los Angeles which made the people no '\n",
      "                                         'tactic'},\n",
      "                       {   'transcript': 'there was a serious earthquake near '\n",
      "                                         'Los Angeles which meet the people no '\n",
      "                                         'tactic'},\n",
      "                       {   'transcript': 'there was a serious earthquake near '\n",
      "                                         'Los Angeles which made the people '\n",
      "                                         'mowtastic'},\n",
      "                       {   'transcript': 'there was a serious earthquake near '\n",
      "                                         'Los Angeles which made the people '\n",
      "                                         'more artistic'}],\n",
      "    'final': True}\n",
      "Recognized speech: there was a serious earthquake near Los Angeles which made the people more tactic\n",
      "Predicted Sentiment: sadness\n",
      "Prediction Probabilities:\n",
      "sadness: 0.006649835035204887\n",
      "joy: 0.005806588102132082\n",
      "love: 0.0020264938939362764\n",
      "anger: 0.0046558678150177\n",
      "fear: 0.0019352277740836143\n",
      "surprise: 6.172101711854339e-05\n",
      "\n",
      "Listening...\n",
      "result2:\n",
      "{   'alternative': [   {   'confidence': 0.8724879,\n",
      "                           'transcript': \"what's a serious head Quake near Los \"\n",
      "                                         'Angeles which made people more '\n",
      "                                         'pathetic'},\n",
      "                       {   'transcript': \"what's a series 8 Quake near Los \"\n",
      "                                         'Angeles which made people more '\n",
      "                                         'pathetic'},\n",
      "                       {   'transcript': \"what's the series 8 Quake near Los \"\n",
      "                                         'Angeles which made people more '\n",
      "                                         'pathetic'},\n",
      "                       {   'transcript': \"what's a serious head quick near Los \"\n",
      "                                         'Angeles which made people more '\n",
      "                                         'pathetic'},\n",
      "                       {   'transcript': \"what's a series eight Quake near Los \"\n",
      "                                         'Angeles which made people more '\n",
      "                                         'pathetic'}],\n",
      "    'final': True}\n",
      "Recognized speech: what's a serious head Quake near Los Angeles which made people more pathetic\n",
      "Predicted Sentiment: sadness\n",
      "Prediction Probabilities:\n",
      "sadness: 0.2959607243537903\n",
      "joy: 0.004140939097851515\n",
      "love: 0.0004134122282266617\n",
      "anger: 0.018841153010725975\n",
      "fear: 0.001995390746742487\n",
      "surprise: 1.2925923329021316e-05\n",
      "\n",
      "Listening...\n",
      "Listening interrupted.\n"
     ]
    }
   ],
   "source": [
    "def preprocess_text(text):\n",
    "    # Preprocess the text\n",
    "    processed_text = text.lower()\n",
    "    processed_text = re.sub('[^a-zA-Z]', ' ', processed_text)\n",
    "    processed_text = processed_text.split()\n",
    "    ps = PorterStemmer()\n",
    "    processed_text = [ps.stem(word) for word in processed_text if word not in stopwords.words('english')]\n",
    "    processed_text = ' '.join(processed_text)\n",
    "\n",
    "    return processed_text\n",
    "\n",
    "def preprocess_input(text):\n",
    "    preprocessed_text = preprocess_text(text)\n",
    "\n",
    "    # Convert text to one-hot encoding\n",
    "    voc_size = 5000\n",
    "    onehot_repr = [one_hot(preprocessed_text, voc_size)]\n",
    "\n",
    "    # Pad sequence for uniform length\n",
    "    max_sequence_length = 200\n",
    "    padded_sequence = pad_sequences(onehot_repr, padding='pre', maxlen=max_sequence_length)\n",
    "\n",
    "    return padded_sequence\n",
    "\n",
    "class_names = {\n",
    "    0: 'sadness',\n",
    "    1: 'joy',\n",
    "    2: 'love',\n",
    "    3: 'anger',\n",
    "    4: 'fear',\n",
    "    5: 'surprise'\n",
    "}\n",
    "\n",
    "def predict_sentiment(model, text):\n",
    "    preprocessed_input = preprocess_input(text)\n",
    "    prediction = model.predict(preprocessed_input)\n",
    "    predicted_class_index = prediction.argmax(axis=1)[0]\n",
    "    predicted_class_name = class_names[predicted_class_index]\n",
    "    predicted_probabilities = prediction[0]\n",
    "    \n",
    "    return predicted_class_name, predicted_probabilities\n",
    "\n",
    "# Load the pre-trained model\n",
    "loaded_model = load_model('NLP_Emotion_Detection_Bidirectional_LSTM_final_1.h5')\n",
    "\n",
    "# Set the initial flag value\n",
    "record_flag = False\n",
    "\n",
    "# Set up speech recognition\n",
    "recognizer = sr.Recognizer()\n",
    "\n",
    "try:\n",
    "    while True:\n",
    "        with sr.Microphone() as source:\n",
    "            print(\"Listening...\")\n",
    "            audio = recognizer.listen(source)\n",
    "        \n",
    "        try:\n",
    "            # Perform speech recognition on the audio\n",
    "            result2 = recognizer.recognize_google(audio)\n",
    "            print(\"Recognized speech:\", result2)\n",
    "            \n",
    "            # Perform sentiment analysis\n",
    "            preprocessed_text = preprocess_text(result2)\n",
    "            predicted_class, predicted_probabilities = predict_sentiment(loaded_model, preprocessed_text)\n",
    "\n",
    "            # Print the predicted sentiment\n",
    "            print(f\"Predicted Sentiment: {predicted_class}\")\n",
    "            print(\"Prediction Probabilities:\")\n",
    "            for class_index, class_name in class_names.items():\n",
    "                probability = predicted_probabilities[class_index]\n",
    "                print(f\"{class_name}: {probability}\")\n",
    "            print()\n",
    "        \n",
    "        except sr.UnknownValueError:\n",
    "            print(\"No speech detected.\")\n",
    "            \n",
    "except KeyboardInterrupt:\n",
    "    print(\"Listening interrupted.\")\n"
   ]
  },
  {
   "cell_type": "code",
   "execution_count": null,
   "id": "cab0821a",
   "metadata": {},
   "outputs": [],
   "source": []
  }
 ],
 "metadata": {
  "kernelspec": {
   "display_name": "Python 3",
   "language": "python",
   "name": "python3"
  },
  "language_info": {
   "codemirror_mode": {
    "name": "ipython",
    "version": 3
   },
   "file_extension": ".py",
   "mimetype": "text/x-python",
   "name": "python",
   "nbconvert_exporter": "python",
   "pygments_lexer": "ipython3",
   "version": "3.6.13"
  }
 },
 "nbformat": 4,
 "nbformat_minor": 5
}
