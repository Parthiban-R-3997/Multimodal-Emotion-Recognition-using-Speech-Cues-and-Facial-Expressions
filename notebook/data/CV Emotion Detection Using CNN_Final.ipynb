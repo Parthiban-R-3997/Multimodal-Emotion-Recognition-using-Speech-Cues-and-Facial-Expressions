{
 "cells": [
  {
   "cell_type": "code",
   "execution_count": 1,
   "id": "09e1eead",
   "metadata": {},
   "outputs": [
    {
     "name": "stderr",
     "output_type": "stream",
     "text": [
      "h:\\Anaconda\\envs\\NLP\\lib\\site-packages\\tensorflow\\python\\framework\\dtypes.py:469: FutureWarning: Passing (type, 1) or '1type' as a synonym of type is deprecated; in a future version of numpy, it will be understood as (type, (1,)) / '(1,)type'.\n",
      "  _np_qint8 = np.dtype([(\"qint8\", np.int8, 1)])\n",
      "h:\\Anaconda\\envs\\NLP\\lib\\site-packages\\tensorflow\\python\\framework\\dtypes.py:470: FutureWarning: Passing (type, 1) or '1type' as a synonym of type is deprecated; in a future version of numpy, it will be understood as (type, (1,)) / '(1,)type'.\n",
      "  _np_quint8 = np.dtype([(\"quint8\", np.uint8, 1)])\n",
      "h:\\Anaconda\\envs\\NLP\\lib\\site-packages\\tensorflow\\python\\framework\\dtypes.py:471: FutureWarning: Passing (type, 1) or '1type' as a synonym of type is deprecated; in a future version of numpy, it will be understood as (type, (1,)) / '(1,)type'.\n",
      "  _np_qint16 = np.dtype([(\"qint16\", np.int16, 1)])\n",
      "h:\\Anaconda\\envs\\NLP\\lib\\site-packages\\tensorflow\\python\\framework\\dtypes.py:472: FutureWarning: Passing (type, 1) or '1type' as a synonym of type is deprecated; in a future version of numpy, it will be understood as (type, (1,)) / '(1,)type'.\n",
      "  _np_quint16 = np.dtype([(\"quint16\", np.uint16, 1)])\n",
      "h:\\Anaconda\\envs\\NLP\\lib\\site-packages\\tensorflow\\python\\framework\\dtypes.py:473: FutureWarning: Passing (type, 1) or '1type' as a synonym of type is deprecated; in a future version of numpy, it will be understood as (type, (1,)) / '(1,)type'.\n",
      "  _np_qint32 = np.dtype([(\"qint32\", np.int32, 1)])\n",
      "h:\\Anaconda\\envs\\NLP\\lib\\site-packages\\tensorflow\\python\\framework\\dtypes.py:476: FutureWarning: Passing (type, 1) or '1type' as a synonym of type is deprecated; in a future version of numpy, it will be understood as (type, (1,)) / '(1,)type'.\n",
      "  np_resource = np.dtype([(\"resource\", np.ubyte, 1)])\n",
      "Using TensorFlow backend.\n"
     ]
    }
   ],
   "source": [
    "import tensorflow as tf\n",
    "from keras.preprocessing import image\n",
    "from keras.layers import Input\n",
    "from keras.models import Sequential\n",
    "from keras.layers import Conv2D, BatchNormalization, Activation, MaxPooling2D, Dropout, Flatten, Dense\n",
    "from keras.callbacks import EarlyStopping, ModelCheckpoint\n",
    "from keras.preprocessing.image import ImageDataGenerator\n",
    "import keras.optimizers as optimizers\n",
    "from keras.optimizers import Adam,SGD,RMSprop\n",
    "from keras.callbacks import ModelCheckpoint, EarlyStopping, ReduceLROnPlateau\n",
    "from keras.layers import Dense, Flatten\n",
    "from keras.models import Model\n",
    "from keras.utils import to_categorical\n",
    "from sklearn.metrics import confusion_matrix,accuracy_score\n",
    "from sklearn.metrics import classification_report\n",
    "import numpy as np\n",
    "import pandas as pd\n",
    "import matplotlib.pyplot as plt"
   ]
  },
  {
   "cell_type": "code",
   "execution_count": 3,
   "id": "8d8fe7d4",
   "metadata": {},
   "outputs": [],
   "source": [
    "# Set the paths to your training and test data directories\n",
    "train_dir = 'train/'\n",
    "test_dir = 'test/' "
   ]
  },
  {
   "cell_type": "code",
   "execution_count": 4,
   "id": "483a9dcc",
   "metadata": {},
   "outputs": [],
   "source": [
    "# Set the image dimensions and number of classes\n",
    "input_shape = (48, 48, 1)\n",
    "img_width, img_height = 48, 48\n",
    "output_class  = 7  # Replace with the actual number of emotion classes"
   ]
  },
  {
   "cell_type": "code",
   "execution_count": 6,
   "id": "9fb68a1a",
   "metadata": {},
   "outputs": [
    {
     "name": "stdout",
     "output_type": "stream",
     "text": [
      "Found 28709 images belonging to 7 classes.\n",
      "Found 7178 images belonging to 7 classes.\n"
     ]
    }
   ],
   "source": [
    "# Set up the data generators\n",
    "train_datagen = ImageDataGenerator(rescale=1.0/255,\n",
    "                                   shear_range=0.2,\n",
    "                                   zoom_range=0.2,\n",
    "                                   horizontal_flip=True)\n",
    "test_datagen = ImageDataGenerator(rescale=1.0/255)\n",
    "\n",
    "train_generator = train_datagen.flow_from_directory(train_dir,\n",
    "                                                    target_size=(img_width, img_height),\n",
    "                                                    batch_size=128,\n",
    "                                                    color_mode=\"grayscale\",                                            \n",
    "                                                    class_mode='categorical')\n",
    "\n",
    "test_generator = test_datagen.flow_from_directory(test_dir,\n",
    "                                                  target_size=(img_width, img_height),\n",
    "                                                  batch_size=128,\n",
    "                                                  color_mode=\"grayscale\",\n",
    "                                                  class_mode='categorical')\n"
   ]
  },
  {
   "cell_type": "code",
   "execution_count": 12,
   "id": "4afbb891",
   "metadata": {},
   "outputs": [
    {
     "name": "stdout",
     "output_type": "stream",
     "text": [
      "_________________________________________________________________\n",
      "Layer (type)                 Output Shape              Param #   \n",
      "=================================================================\n",
      "conv2d_22 (Conv2D)           (None, 46, 46, 256)       2560      \n",
      "_________________________________________________________________\n",
      "max_pooling2d_21 (MaxPooling (None, 23, 23, 256)       0         \n",
      "_________________________________________________________________\n",
      "dropout_37 (Dropout)         (None, 23, 23, 256)       0         \n",
      "_________________________________________________________________\n",
      "conv2d_23 (Conv2D)           (None, 21, 21, 512)       1180160   \n",
      "_________________________________________________________________\n",
      "max_pooling2d_22 (MaxPooling (None, 10, 10, 512)       0         \n",
      "_________________________________________________________________\n",
      "dropout_38 (Dropout)         (None, 10, 10, 512)       0         \n",
      "_________________________________________________________________\n",
      "conv2d_24 (Conv2D)           (None, 8, 8, 512)         2359808   \n",
      "_________________________________________________________________\n",
      "max_pooling2d_23 (MaxPooling (None, 4, 4, 512)         0         \n",
      "_________________________________________________________________\n",
      "dropout_39 (Dropout)         (None, 4, 4, 512)         0         \n",
      "_________________________________________________________________\n",
      "conv2d_25 (Conv2D)           (None, 2, 2, 512)         2359808   \n",
      "_________________________________________________________________\n",
      "max_pooling2d_24 (MaxPooling (None, 1, 1, 512)         0         \n",
      "_________________________________________________________________\n",
      "dropout_40 (Dropout)         (None, 1, 1, 512)         0         \n",
      "_________________________________________________________________\n",
      "flatten_5 (Flatten)          (None, 512)               0         \n",
      "_________________________________________________________________\n",
      "dense_21 (Dense)             (None, 512)               262656    \n",
      "_________________________________________________________________\n",
      "dropout_41 (Dropout)         (None, 512)               0         \n",
      "_________________________________________________________________\n",
      "dense_22 (Dense)             (None, 512)               262656    \n",
      "_________________________________________________________________\n",
      "dropout_42 (Dropout)         (None, 512)               0         \n",
      "_________________________________________________________________\n",
      "dense_23 (Dense)             (None, 256)               131328    \n",
      "_________________________________________________________________\n",
      "dropout_43 (Dropout)         (None, 256)               0         \n",
      "_________________________________________________________________\n",
      "dense_24 (Dense)             (None, 7)                 1799      \n",
      "=================================================================\n",
      "Total params: 6,560,775\n",
      "Trainable params: 6,560,775\n",
      "Non-trainable params: 0\n",
      "_________________________________________________________________\n"
     ]
    }
   ],
   "source": [
    "model = Sequential()\n",
    "# convolutional layers\n",
    "model.add(Conv2D(256, kernel_size=(3,3), activation='relu', input_shape=input_shape))\n",
    "model.add(MaxPooling2D(pool_size=(2,2)))\n",
    "model.add(Dropout(0.3))\n",
    "\n",
    "model.add(Conv2D(512, kernel_size=(3,3), activation='relu'))\n",
    "model.add(MaxPooling2D(pool_size=(2,2)))\n",
    "model.add(Dropout(0.3))\n",
    "\n",
    "model.add(Conv2D(512, kernel_size=(3,3), activation='relu'))\n",
    "model.add(MaxPooling2D(pool_size=(2,2)))\n",
    "model.add(Dropout(0.3))\n",
    "\n",
    "model.add(Conv2D(512, kernel_size=(3,3), activation='relu'))\n",
    "model.add(MaxPooling2D(pool_size=(2,2)))\n",
    "model.add(Dropout(0.3))\n",
    "\n",
    "\n",
    "model.add(Flatten())\n",
    "# fully connected layers\n",
    "model.add(Dense(512, activation='relu'))\n",
    "model.add(Dropout(0.3))\n",
    "model.add(Dense(512, activation='relu'))\n",
    "model.add(Dropout(0.3))\n",
    "model.add(Dense(256, activation='relu'))\n",
    "model.add(Dropout(0.3))\n",
    "\n",
    "# output layer\n",
    "model.add(Dense(output_class, activation='softmax'))\n",
    "\n",
    "optimizer = optimizers.Adam(lr=0.0005)\n",
    "model.compile(loss='categorical_crossentropy', optimizer=optimizer, metrics=['accuracy'])\n",
    "model.summary()"
   ]
  },
  {
   "cell_type": "code",
   "execution_count": 13,
   "id": "d06d9964",
   "metadata": {},
   "outputs": [
    {
     "name": "stdout",
     "output_type": "stream",
     "text": [
      "Epoch 1/100\n",
      "224/224 [==============================] - 101s 453ms/step - loss: 1.8262 - acc: 0.2460 - val_loss: 1.8127 - val_acc: 0.2471\n",
      "Epoch 2/100\n",
      "224/224 [==============================] - 101s 450ms/step - loss: 1.8033 - acc: 0.2496 - val_loss: 1.7930 - val_acc: 0.2522\n",
      "Epoch 3/100\n",
      "224/224 [==============================] - 133s 593ms/step - loss: 1.7173 - acc: 0.2922 - val_loss: 1.5983 - val_acc: 0.3740\n",
      "Epoch 4/100\n",
      "224/224 [==============================] - 140s 624ms/step - loss: 1.5756 - acc: 0.3782 - val_loss: 1.4207 - val_acc: 0.4441\n",
      "Epoch 5/100\n",
      "224/224 [==============================] - 101s 449ms/step - loss: 1.4614 - acc: 0.4333 - val_loss: 1.3215 - val_acc: 0.4971\n",
      "Epoch 6/100\n",
      "224/224 [==============================] - 101s 450ms/step - loss: 1.3953 - acc: 0.4654 - val_loss: 1.3109 - val_acc: 0.5003\n",
      "Epoch 7/100\n",
      "224/224 [==============================] - 101s 449ms/step - loss: 1.3517 - acc: 0.4824 - val_loss: 1.2240 - val_acc: 0.5326\n",
      "Epoch 8/100\n",
      "224/224 [==============================] - 101s 449ms/step - loss: 1.3222 - acc: 0.4900 - val_loss: 1.1982 - val_acc: 0.5377\n",
      "Epoch 9/100\n",
      "224/224 [==============================] - 101s 449ms/step - loss: 1.2862 - acc: 0.5127 - val_loss: 1.1762 - val_acc: 0.5499\n",
      "Epoch 10/100\n",
      "224/224 [==============================] - 101s 449ms/step - loss: 1.2665 - acc: 0.5191 - val_loss: 1.1450 - val_acc: 0.5580\n",
      "Epoch 11/100\n",
      "224/224 [==============================] - 101s 449ms/step - loss: 1.2516 - acc: 0.5267 - val_loss: 1.1432 - val_acc: 0.5580\n",
      "Epoch 12/100\n",
      "224/224 [==============================] - 101s 450ms/step - loss: 1.2290 - acc: 0.5334 - val_loss: 1.1181 - val_acc: 0.5663\n",
      "Epoch 13/100\n",
      "224/224 [==============================] - 101s 449ms/step - loss: 1.2170 - acc: 0.5423 - val_loss: 1.1239 - val_acc: 0.5657\n",
      "Epoch 14/100\n",
      "224/224 [==============================] - 101s 449ms/step - loss: 1.1977 - acc: 0.5452 - val_loss: 1.0977 - val_acc: 0.5801\n",
      "Epoch 15/100\n",
      "224/224 [==============================] - 100s 448ms/step - loss: 1.1828 - acc: 0.5545 - val_loss: 1.0751 - val_acc: 0.5882\n",
      "Epoch 16/100\n",
      "224/224 [==============================] - 100s 448ms/step - loss: 1.1695 - acc: 0.5626 - val_loss: 1.0763 - val_acc: 0.5847\n",
      "Epoch 17/100\n",
      "224/224 [==============================] - 101s 449ms/step - loss: 1.1735 - acc: 0.5531 - val_loss: 1.0667 - val_acc: 0.5904\n",
      "Epoch 18/100\n",
      "224/224 [==============================] - 101s 450ms/step - loss: 1.1522 - acc: 0.5663 - val_loss: 1.0758 - val_acc: 0.5844\n",
      "Epoch 19/100\n",
      "224/224 [==============================] - 101s 450ms/step - loss: 1.1446 - acc: 0.5688 - val_loss: 1.0524 - val_acc: 0.5950\n",
      "Epoch 20/100\n",
      "224/224 [==============================] - 126s 562ms/step - loss: 1.1429 - acc: 0.5706 - val_loss: 1.0512 - val_acc: 0.6063\n",
      "Epoch 21/100\n",
      "224/224 [==============================] - 137s 614ms/step - loss: 1.1248 - acc: 0.5772 - val_loss: 1.0343 - val_acc: 0.6063\n",
      "Epoch 22/100\n",
      "224/224 [==============================] - 101s 450ms/step - loss: 1.1188 - acc: 0.5783 - val_loss: 1.0373 - val_acc: 0.6124\n",
      "Epoch 23/100\n",
      "224/224 [==============================] - 101s 450ms/step - loss: 1.1155 - acc: 0.5813 - val_loss: 1.0237 - val_acc: 0.6113\n",
      "Epoch 24/100\n",
      "224/224 [==============================] - 101s 449ms/step - loss: 1.1022 - acc: 0.5860 - val_loss: 1.0198 - val_acc: 0.6147\n",
      "Epoch 25/100\n",
      "224/224 [==============================] - 101s 449ms/step - loss: 1.1029 - acc: 0.5879 - val_loss: 1.0160 - val_acc: 0.6228\n",
      "Epoch 26/100\n",
      "224/224 [==============================] - 101s 450ms/step - loss: 1.0845 - acc: 0.5913 - val_loss: 1.0124 - val_acc: 0.6191\n",
      "Epoch 27/100\n",
      "224/224 [==============================] - 101s 450ms/step - loss: 1.0879 - acc: 0.5913 - val_loss: 1.0170 - val_acc: 0.6159\n",
      "Epoch 28/100\n",
      "224/224 [==============================] - 100s 448ms/step - loss: 1.0853 - acc: 0.5889 - val_loss: 1.0069 - val_acc: 0.6235\n",
      "Epoch 29/100\n",
      "224/224 [==============================] - 101s 449ms/step - loss: 1.0791 - acc: 0.5944 - val_loss: 1.0325 - val_acc: 0.6123\n",
      "Epoch 30/100\n",
      "224/224 [==============================] - 101s 449ms/step - loss: 1.0756 - acc: 0.5957 - val_loss: 1.0068 - val_acc: 0.6211\n",
      "Epoch 31/100\n",
      "224/224 [==============================] - 101s 450ms/step - loss: 1.0582 - acc: 0.6018 - val_loss: 0.9950 - val_acc: 0.6239\n",
      "Epoch 32/100\n",
      "224/224 [==============================] - 101s 450ms/step - loss: 1.0548 - acc: 0.6042 - val_loss: 1.0116 - val_acc: 0.6260\n",
      "Epoch 33/100\n",
      "224/224 [==============================] - 101s 449ms/step - loss: 1.0522 - acc: 0.6079 - val_loss: 1.0045 - val_acc: 0.6240\n",
      "Epoch 34/100\n",
      "224/224 [==============================] - 101s 450ms/step - loss: 1.0497 - acc: 0.6069 - val_loss: 1.0000 - val_acc: 0.6243\n",
      "Epoch 35/100\n",
      "224/224 [==============================] - 101s 450ms/step - loss: 1.0452 - acc: 0.6065 - val_loss: 0.9887 - val_acc: 0.6310\n",
      "Epoch 36/100\n",
      "224/224 [==============================] - 101s 450ms/step - loss: 1.0425 - acc: 0.6067 - val_loss: 0.9901 - val_acc: 0.6313\n",
      "Epoch 37/100\n",
      "224/224 [==============================] - 101s 451ms/step - loss: 1.0322 - acc: 0.6123 - val_loss: 0.9840 - val_acc: 0.6282\n",
      "Epoch 38/100\n",
      "224/224 [==============================] - 100s 449ms/step - loss: 1.0241 - acc: 0.6172 - val_loss: 0.9895 - val_acc: 0.6314\n",
      "Epoch 39/100\n",
      "224/224 [==============================] - 101s 450ms/step - loss: 1.0250 - acc: 0.6137 - val_loss: 0.9816 - val_acc: 0.6334\n",
      "Epoch 40/100\n",
      "224/224 [==============================] - 101s 450ms/step - loss: 1.0236 - acc: 0.6163 - val_loss: 0.9726 - val_acc: 0.6332\n",
      "Epoch 41/100\n",
      "224/224 [==============================] - 101s 451ms/step - loss: 1.0154 - acc: 0.6227 - val_loss: 0.9780 - val_acc: 0.6345\n",
      "Epoch 42/100\n",
      "224/224 [==============================] - 100s 448ms/step - loss: 1.0136 - acc: 0.6220 - val_loss: 0.9754 - val_acc: 0.6334\n",
      "Epoch 43/100\n",
      "224/224 [==============================] - 101s 451ms/step - loss: 1.0050 - acc: 0.6244 - val_loss: 0.9723 - val_acc: 0.6377\n",
      "Epoch 44/100\n",
      "224/224 [==============================] - 101s 450ms/step - loss: 1.0080 - acc: 0.6243 - val_loss: 0.9755 - val_acc: 0.6367\n",
      "Epoch 45/100\n",
      "224/224 [==============================] - 101s 451ms/step - loss: 0.9929 - acc: 0.6284 - val_loss: 0.9788 - val_acc: 0.6343\n",
      "Epoch 46/100\n",
      "224/224 [==============================] - 101s 449ms/step - loss: 0.9987 - acc: 0.6243 - val_loss: 0.9772 - val_acc: 0.6370\n",
      "Epoch 47/100\n",
      "224/224 [==============================] - 101s 450ms/step - loss: 0.9915 - acc: 0.6283 - val_loss: 0.9710 - val_acc: 0.6388\n",
      "Epoch 48/100\n",
      "224/224 [==============================] - 101s 450ms/step - loss: 0.9820 - acc: 0.6293 - val_loss: 0.9687 - val_acc: 0.6434\n",
      "Epoch 49/100\n",
      "224/224 [==============================] - 101s 450ms/step - loss: 0.9882 - acc: 0.6290 - val_loss: 0.9606 - val_acc: 0.6406\n",
      "Epoch 50/100\n",
      "224/224 [==============================] - 101s 450ms/step - loss: 0.9735 - acc: 0.6352 - val_loss: 0.9627 - val_acc: 0.6401\n",
      "Epoch 51/100\n",
      "224/224 [==============================] - 101s 450ms/step - loss: 0.9868 - acc: 0.6301 - val_loss: 0.9625 - val_acc: 0.6419\n",
      "Epoch 52/100\n",
      "224/224 [==============================] - 101s 451ms/step - loss: 0.9763 - acc: 0.6342 - val_loss: 0.9631 - val_acc: 0.6451\n",
      "Epoch 53/100\n",
      "224/224 [==============================] - 101s 450ms/step - loss: 0.9709 - acc: 0.6396 - val_loss: 0.9591 - val_acc: 0.6463\n",
      "Epoch 54/100\n",
      "224/224 [==============================] - 101s 449ms/step - loss: 0.9704 - acc: 0.6413 - val_loss: 0.9597 - val_acc: 0.6448\n",
      "Epoch 55/100\n",
      "224/224 [==============================] - 101s 450ms/step - loss: 0.9570 - acc: 0.6448 - val_loss: 0.9652 - val_acc: 0.6431\n",
      "Epoch 56/100\n",
      "224/224 [==============================] - 101s 450ms/step - loss: 0.9690 - acc: 0.6356 - val_loss: 0.9611 - val_acc: 0.6436\n",
      "Epoch 57/100\n",
      "224/224 [==============================] - 101s 450ms/step - loss: 0.9641 - acc: 0.6411 - val_loss: 0.9520 - val_acc: 0.6532\n",
      "Epoch 58/100\n",
      "224/224 [==============================] - 101s 450ms/step - loss: 0.9586 - acc: 0.6446 - val_loss: 0.9657 - val_acc: 0.6399\n",
      "Epoch 59/100\n",
      "224/224 [==============================] - 101s 450ms/step - loss: 0.9501 - acc: 0.6436 - val_loss: 0.9606 - val_acc: 0.6476\n",
      "Epoch 60/100\n",
      "224/224 [==============================] - 101s 451ms/step - loss: 0.9540 - acc: 0.6449 - val_loss: 0.9590 - val_acc: 0.6454\n",
      "Epoch 61/100\n",
      "224/224 [==============================] - 101s 449ms/step - loss: 0.9420 - acc: 0.6463 - val_loss: 0.9543 - val_acc: 0.6455\n",
      "Epoch 62/100\n",
      "224/224 [==============================] - 101s 451ms/step - loss: 0.9419 - acc: 0.6493 - val_loss: 0.9511 - val_acc: 0.6571\n",
      "Epoch 63/100\n",
      "224/224 [==============================] - 101s 450ms/step - loss: 0.9352 - acc: 0.6519 - val_loss: 0.9600 - val_acc: 0.6441\n",
      "Epoch 64/100\n",
      "224/224 [==============================] - 101s 449ms/step - loss: 0.9376 - acc: 0.6478 - val_loss: 0.9495 - val_acc: 0.6479\n",
      "Epoch 65/100\n",
      "224/224 [==============================] - 101s 452ms/step - loss: 0.9306 - acc: 0.6537 - val_loss: 0.9618 - val_acc: 0.6429\n",
      "Epoch 66/100\n",
      "224/224 [==============================] - 101s 450ms/step - loss: 0.9384 - acc: 0.6482 - val_loss: 0.9465 - val_acc: 0.6528\n",
      "Epoch 67/100\n",
      "224/224 [==============================] - 101s 450ms/step - loss: 0.9274 - acc: 0.6549 - val_loss: 0.9451 - val_acc: 0.6522\n",
      "Epoch 68/100\n",
      "224/224 [==============================] - 101s 452ms/step - loss: 0.9157 - acc: 0.6607 - val_loss: 0.9488 - val_acc: 0.6496\n",
      "Epoch 69/100\n",
      "224/224 [==============================] - 101s 450ms/step - loss: 0.9237 - acc: 0.6552 - val_loss: 0.9423 - val_acc: 0.6528\n",
      "Epoch 70/100\n",
      "224/224 [==============================] - 100s 448ms/step - loss: 0.9260 - acc: 0.6556 - val_loss: 0.9482 - val_acc: 0.6533\n",
      "Epoch 71/100\n",
      "224/224 [==============================] - 101s 449ms/step - loss: 0.9153 - acc: 0.6574 - val_loss: 0.9551 - val_acc: 0.6507\n",
      "Epoch 72/100\n",
      "224/224 [==============================] - 101s 449ms/step - loss: 0.9162 - acc: 0.6568 - val_loss: 0.9416 - val_acc: 0.6558\n"
     ]
    }
   ],
   "source": [
    "early_stopping = EarlyStopping(monitor = 'val_acc',patience=10)\n",
    "\n",
    "history = model.fit_generator(generator=train_generator,\n",
    "                              steps_per_epoch=train_generator.samples // train_generator.batch_size,\n",
    "                              epochs=100,\n",
    "                              validation_data=test_generator,\n",
    "                              validation_steps=test_generator.samples // test_generator.batch_size,\n",
    "                              callbacks=[early_stopping]\n",
    "                             )"
   ]
  },
  {
   "cell_type": "code",
   "execution_count": 14,
   "id": "e21718e3",
   "metadata": {},
   "outputs": [
    {
     "data": {
      "image/png": "[encoded data removed]",
      "text/plain": [
       "<Figure size 432x288 with 1 Axes>"
      ]
     },
     "metadata": {
      "needs_background": "light"
     },
     "output_type": "display_data"
    },
    {
     "data": {
      "image/png": "[encoded data removed]",
      "text/plain": [
       "<Figure size 432x288 with 1 Axes>"
      ]
     },
     "metadata": {
      "needs_background": "light"
     },
     "output_type": "display_data"
    }
   ],
   "source": [
    "# Plot training & validation accuracy values\n",
    "plt.plot(history.history['acc'])\n",
    "plt.plot(history.history['val_acc'])\n",
    "plt.title('Model accuracy')\n",
    "plt.ylabel('Accuracy')\n",
    "plt.xlabel('Epoch')\n",
    "plt.legend(['Train', 'Validation'], loc='upper left')\n",
    "plt.show()\n",
    "\n",
    "# Plot training & validation loss values\n",
    "plt.plot(history.history['loss'])\n",
    "plt.plot(history.history['val_loss'])\n",
    "plt.title('Model loss')\n",
    "plt.ylabel('Loss')\n",
    "plt.xlabel('Epoch')\n",
    "plt.legend(['Train', 'Validation'], loc='upper left')\n",
    "plt.show()"
   ]
  },
  {
   "cell_type": "code",
   "execution_count": 15,
   "id": "de329398",
   "metadata": {},
   "outputs": [
    {
     "name": "stdout",
     "output_type": "stream",
     "text": [
      "Test Loss: 0.9408006817102432\n",
      "Test Accuracy: 0.6556919642857143\n"
     ]
    }
   ],
   "source": [
    "# Evaluate the model on the test data\n",
    "test_loss, test_accuracy = model.evaluate_generator(test_generator, steps=test_generator.samples // test_generator.batch_size)\n",
    "print('Test Loss:', test_loss)\n",
    "print('Test Accuracy:', test_accuracy)"
   ]
  },
  {
   "cell_type": "code",
   "execution_count": 9,
   "id": "bef074e6",
   "metadata": {},
   "outputs": [],
   "source": [
    "y_pred = model.predict_generator(test_generator, steps=test_generator.samples // test_generator.batch_size)"
   ]
  },
  {
   "cell_type": "code",
   "execution_count": 10,
   "id": "bbe9461d",
   "metadata": {},
   "outputs": [
    {
     "data": {
      "text/plain": [
       "array([[6.32287702e-05, 5.66776803e-09, 6.30370399e-04, ...,\n",
       "        4.36650887e-02, 1.38226213e-04, 3.07303723e-02],\n",
       "       [3.46609712e-01, 1.03711174e-03, 5.87282293e-02, ...,\n",
       "        3.73843938e-01, 2.16189355e-01, 2.35518906e-03],\n",
       "       [1.19062681e-02, 1.23839136e-02, 1.39240865e-02, ...,\n",
       "        1.78056881e-02, 6.83718454e-03, 3.41853523e-03],\n",
       "       ...,\n",
       "       [1.53480731e-02, 1.06416201e-05, 2.13929974e-02, ...,\n",
       "        5.89118481e-01, 3.71660173e-01, 1.32619301e-04],\n",
       "       [1.63532287e-01, 6.77443761e-03, 1.31818116e-01, ...,\n",
       "        3.91378403e-01, 2.44594887e-01, 6.01854408e-03],\n",
       "       [8.27326905e-03, 1.58562267e-04, 8.70233774e-02, ...,\n",
       "        6.94990857e-04, 2.59065977e-03, 8.98375273e-01]], dtype=float32)"
      ]
     },
     "execution_count": 10,
     "metadata": {},
     "output_type": "execute_result"
    }
   ],
   "source": [
    "y_pred"
   ]
  },
  {
   "cell_type": "code",
   "execution_count": 12,
   "id": "322d9e0b",
   "metadata": {},
   "outputs": [],
   "source": [
    "y_pred_labels = np.argmax(y_pred, axis=1)"
   ]
  },
  {
   "cell_type": "code",
   "execution_count": 30,
   "id": "0cfa1904",
   "metadata": {},
   "outputs": [
    {
     "data": {
      "text/plain": [
       "array([4, 0, 4, ..., 5, 4, 3], dtype=int64)"
      ]
     },
     "execution_count": 30,
     "metadata": {},
     "output_type": "execute_result"
    }
   ],
   "source": [
    "y_pred_labels"
   ]
  },
  {
   "cell_type": "code",
   "execution_count": 22,
   "id": "b6d14110",
   "metadata": {},
   "outputs": [],
   "source": [
    "y_true_labels = test_generator.classes[:y_pred_labels.shape[0]]"
   ]
  },
  {
   "cell_type": "code",
   "execution_count": 23,
   "id": "a164dc31",
   "metadata": {},
   "outputs": [
    {
     "data": {
      "text/plain": [
       "array([0, 0, 0, ..., 6, 6, 6])"
      ]
     },
     "execution_count": 23,
     "metadata": {},
     "output_type": "execute_result"
    }
   ],
   "source": [
    "y_true_labels"
   ]
  },
  {
   "cell_type": "code",
   "execution_count": 24,
   "id": "b926724e",
   "metadata": {},
   "outputs": [
    {
     "data": {
      "text/plain": [
       "((7168,), (7168,))"
      ]
     },
     "execution_count": 24,
     "metadata": {},
     "output_type": "execute_result"
    }
   ],
   "source": [
    "y_true_labels.shape,y_pred_labels.shape"
   ]
  },
  {
   "cell_type": "code",
   "execution_count": 35,
   "id": "85ad87fb",
   "metadata": {},
   "outputs": [
    {
     "name": "stdout",
     "output_type": "stream",
     "text": [
      "              precision    recall  f1-score   support\n",
      "\n",
      "       angry       0.14      0.13      0.13       958\n",
      "     disgust       0.01      0.01      0.01       111\n",
      "        fear       0.15      0.08      0.10      1024\n",
      "       happy       0.24      0.24      0.24      1774\n",
      "     neutral       0.17      0.24      0.20      1233\n",
      "         sad       0.17      0.18      0.17      1247\n",
      "    surprise       0.13      0.14      0.13       821\n",
      "\n",
      "    accuracy                           0.18      7168\n",
      "   macro avg       0.14      0.14      0.14      7168\n",
      "weighted avg       0.17      0.18      0.17      7168\n",
      "\n"
     ]
    }
   ],
   "source": [
    "class_names = list(test_generator.class_indices.keys())\n",
    "classification_rep = classification_report(y_true_labels, y_pred_labels, target_names=class_names)\n",
    "print(classification_rep)"
   ]
  },
  {
   "cell_type": "code",
   "execution_count": 16,
   "id": "aa5b4899",
   "metadata": {},
   "outputs": [],
   "source": [
    "# Save the model\n",
    "model.save('emotion_model_cnn_final.h5')"
   ]
  },
  {
   "cell_type": "code",
   "execution_count": 7,
   "id": "81d8fd2d",
   "metadata": {},
   "outputs": [],
   "source": [
    "# Load the saved model\n",
    "from keras.models import load_model\n",
    "model = load_model('emotion_model_cnn_final.h5')"
   ]
  },
  {
   "attachments": {},
   "cell_type": "markdown",
   "id": "27082016",
   "metadata": {},
   "source": [
    "## <font color='green'> Making Predictions on Test images </font>"
   ]
  },
  {
   "cell_type": "code",
   "execution_count": 30,
   "id": "2aa3da81",
   "metadata": {},
   "outputs": [
    {
     "data": {
      "image/png": "[encoded data removed]",
      "text/plain": [
       "<Figure size 432x288 with 1 Axes>"
      ]
     },
     "metadata": {
      "needs_background": "light"
     },
     "output_type": "display_data"
    }
   ],
   "source": [
    "from keras.preprocessing import image\n",
    "import numpy as np\n",
    "import cv2\n",
    "\n",
    "# Load and preprocess the input image\n",
    "image_path = 'test/angry/PrivateTest_1221822.jpg'\n",
    "img = image.load_img(image_path, target_size=(img_width, img_height))\n",
    "img = image.img_to_array(img)\n",
    "img = cv2.cvtColor(img, cv2.COLOR_RGB2GRAY)  # Convert to grayscale\n",
    "img = np.expand_dims(img, axis=0)\n",
    "img = np.expand_dims(img, axis=-1)\n",
    "img = img / 255.0  # Normalize pixel values to [0, 1]\n",
    "\n",
    "# Make a prediction on the input image\n",
    "prediction = model.predict(img)\n",
    "predicted_label = np.argmax(prediction)\n",
    "\n",
    "# Map the predicted label to class name\n",
    "class_names = train_generator.class_indices\n",
    "class_names = dict((v, k) for k, v in class_names.items())\n",
    "predicted_class_name = class_names[predicted_label]\n",
    "\n",
    "# Display the input image and predicted class name\n",
    "plt.imshow(np.squeeze(img), cmap='gray')\n",
    "plt.axis('off')\n",
    "plt.title('Predicted Class: ' + predicted_class_name)\n",
    "plt.show()\n"
   ]
  },
  {
   "cell_type": "code",
   "execution_count": 16,
   "id": "1c9f93e6",
   "metadata": {},
   "outputs": [
    {
     "data": {
      "image/png": "[encoded data removed]",
      "text/plain": [
       "<Figure size 432x288 with 1 Axes>"
      ]
     },
     "metadata": {
      "needs_background": "light"
     },
     "output_type": "display_data"
    }
   ],
   "source": [
    "# Load and preprocess the input image\n",
    "image_path = 'test/disgust/PublicTest_57583458.jpg'\n",
    "img = image.load_img(image_path, target_size=(img_width, img_height))\n",
    "img = image.img_to_array(img)\n",
    "img = cv2.cvtColor(img, cv2.COLOR_RGB2GRAY)  # Convert to grayscale\n",
    "img = np.expand_dims(img, axis=0)\n",
    "img = np.expand_dims(img, axis=-1)\n",
    "img = img / 255.0  # Normalize pixel values to [0, 1]\n",
    "\n",
    "# Make a prediction on the input image\n",
    "prediction = model.predict(img)\n",
    "predicted_label = np.argmax(prediction)\n",
    "\n",
    "# Map the predicted label to class name\n",
    "class_names = train_generator.class_indices\n",
    "class_names = dict((v, k) for k, v in class_names.items())\n",
    "predicted_class_name = class_names[predicted_label]\n",
    "\n",
    "# Display the input image and predicted class name\n",
    "plt.imshow(np.squeeze(img), cmap='gray')\n",
    "plt.axis('off')\n",
    "plt.title('Predicted Class: ' + predicted_class_name)\n",
    "plt.show()\n"
   ]
  },
  {
   "cell_type": "code",
   "execution_count": 21,
   "id": "7e6c7e88",
   "metadata": {},
   "outputs": [
    {
     "data": {
      "image/png": "[encoded data removed]",
      "text/plain": [
       "<Figure size 432x288 with 1 Axes>"
      ]
     },
     "metadata": {
      "needs_background": "light"
     },
     "output_type": "display_data"
    }
   ],
   "source": [
    "# Load and preprocess the input image\n",
    "image_path = 'test/angry/PrivateTest_31103368.jpg'\n",
    "img = image.load_img(image_path, target_size=(img_width, img_height))\n",
    "img = image.img_to_array(img)\n",
    "img = cv2.cvtColor(img, cv2.COLOR_RGB2GRAY)  # Convert to grayscale\n",
    "img = np.expand_dims(img, axis=0)\n",
    "img = np.expand_dims(img, axis=-1)\n",
    "img = img / 255.0  # Normalize pixel values to [0, 1]\n",
    "\n",
    "# Make a prediction on the input image\n",
    "prediction = model.predict(img)\n",
    "predicted_label = np.argmax(prediction)\n",
    "\n",
    "# Map the predicted label to class name\n",
    "class_names = train_generator.class_indices\n",
    "class_names = dict((v, k) for k, v in class_names.items())\n",
    "predicted_class_name = class_names[predicted_label]\n",
    "\n",
    "# Display the input image and predicted class name\n",
    "plt.imshow(np.squeeze(img), cmap='gray')\n",
    "plt.axis('off')\n",
    "plt.title('Predicted Class: ' + predicted_class_name)\n",
    "plt.show()\n"
   ]
  },
  {
   "cell_type": "code",
   "execution_count": null,
   "id": "8161d26d",
   "metadata": {},
   "outputs": [],
   "source": []
  },
  {
   "cell_type": "code",
   "execution_count": null,
   "id": "1ebd0e81",
   "metadata": {},
   "outputs": [],
   "source": []
  }
 ],
 "metadata": {
  "kernelspec": {
   "display_name": "Python 3",
   "language": "python",
   "name": "python3"
  },
  "language_info": {
   "codemirror_mode": {
    "name": "ipython",
    "version": 3
   },
   "file_extension": ".py",
   "mimetype": "text/x-python",
   "name": "python",
   "nbconvert_exporter": "python",
   "pygments_lexer": "ipython3",
   "version": "3.6.13"
  }
 },
 "nbformat": 4,
 "nbformat_minor": 5
}
