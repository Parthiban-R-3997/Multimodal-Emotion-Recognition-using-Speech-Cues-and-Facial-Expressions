{
 "cells": [
  {
   "cell_type": "code",
   "execution_count": 10,
   "id": "09e1eead",
   "metadata": {},
   "outputs": [],
   "source": [
    "import tensorflow as tf\n",
    "from keras.preprocessing import image\n",
    "from keras.layers import Input\n",
    "import os\n",
    "from keras.models import Sequential\n",
    "from keras.layers import Conv2D, BatchNormalization, Activation, MaxPooling2D, Dropout, Flatten, Dense\n",
    "from keras.callbacks import EarlyStopping, ModelCheckpoint\n",
    "from keras.preprocessing.image import ImageDataGenerator\n",
    "import keras.optimizers as optimizers\n",
    "from keras.optimizers import Adam,SGD,RMSprop\n",
    "from keras.callbacks import ModelCheckpoint, EarlyStopping, ReduceLROnPlateau\n",
    "from keras.layers import Dense, Flatten\n",
    "from keras.models import Model\n",
    "from keras.utils import to_categorical\n",
    "from sklearn.metrics import confusion_matrix,accuracy_score\n",
    "from sklearn.metrics import classification_report\n",
    "import numpy as np\n",
    "import pandas as pd\n",
    "import matplotlib.pyplot as plt"
   ]
  },
  {
   "cell_type": "code",
   "execution_count": 11,
   "id": "8d8fe7d4",
   "metadata": {},
   "outputs": [],
   "source": [
    "# Set the paths to your training and test data directories\n",
    "train_dir = 'train/'\n",
    "test_dir = 'test/' "
   ]
  },
  {
   "cell_type": "markdown",
   "id": "f109f983",
   "metadata": {},
   "source": [
    "### <font color='green'> Counting the emotion labels in train and test dataset </font>"
   ]
  },
  {
   "cell_type": "code",
   "execution_count": 12,
   "id": "1e463108",
   "metadata": {},
   "outputs": [
    {
     "data": {
      "image/png": "[encoded data removed]",
      "text/plain": [
       "<Figure size 720x432 with 1 Axes>"
      ]
     },
     "metadata": {
      "needs_background": "light"
     },
     "output_type": "display_data"
    }
   ],
   "source": [
    "# Define emotion labels\n",
    "emotion_labels = ['sad', 'surprise', 'fear', 'angry', 'happy', 'neutral','disgust']\n",
    "\n",
    "# Function to count the number of images in each class folder\n",
    "def count_images_in_folder(folder_path):\n",
    "    image_counts = []\n",
    "    for label in emotion_labels:\n",
    "        class_folder_path = os.path.join(folder_path, label)\n",
    "        num_images = len(os.listdir(class_folder_path))\n",
    "        image_counts.append(num_images)\n",
    "    return image_counts\n",
    "\n",
    "# Get the counts of images in the 'train/' and 'test/' directories\n",
    "train_image_counts = count_images_in_folder('train/')\n",
    "test_image_counts = count_images_in_folder('test/')\n",
    "\n",
    "# Create a count plot using matplotlib\n",
    "plt.figure(figsize=(10, 6))\n",
    "bars_train = plt.bar(emotion_labels, train_image_counts, color='skyblue', label='Train')\n",
    "bars_test = plt.bar(emotion_labels, test_image_counts, color='orange', label='Test', alpha=0.8)\n",
    "plt.xlabel('Emotion')\n",
    "plt.ylabel('Count')\n",
    "plt.title('Count of Images in Train and Test Datasets for each Emotion')\n",
    "plt.legend()\n",
    "\n",
    "# Add text on each bar for the 'train/' set\n",
    "for bar_train, bar_test in zip(bars_train, bars_test):\n",
    "    height_train = bar_train.get_height()\n",
    "    height_test = bar_test.get_height()\n",
    "    plt.text(bar_train.get_x() + bar_train.get_width() / 2, height_train, str(int(height_train)), \n",
    "             ha='center', va='bottom', fontsize=12)\n",
    "    plt.text(bar_test.get_x() + bar_test.get_width() / 2, height_test, str(int(height_test)), \n",
    "             ha='center', va='bottom', fontsize=12)\n",
    "\n",
    "plt.xticks(rotation=45)\n",
    "plt.show()\n"
   ]
  },
  {
   "cell_type": "code",
   "execution_count": 3,
   "id": "483a9dcc",
   "metadata": {},
   "outputs": [],
   "source": [
    "# Set the image dimensions and number of classes\n",
    "input_shape = (48, 48, 1)\n",
    "img_width, img_height = 48, 48\n",
    "output_class  = 7  # Replace with the actual number of emotion classes"
   ]
  },
  {
   "cell_type": "code",
   "execution_count": 4,
   "id": "9fb68a1a",
   "metadata": {},
   "outputs": [
    {
     "name": "stdout",
     "output_type": "stream",
     "text": [
      "Found 28709 images belonging to 7 classes.\n",
      "Found 7178 images belonging to 7 classes.\n"
     ]
    }
   ],
   "source": [
    "# Set up the data generators\n",
    "train_datagen = ImageDataGenerator(rescale=1.0/255,\n",
    "                                   shear_range=0.2,\n",
    "                                   zoom_range=0.2,\n",
    "                                   horizontal_flip=True)\n",
    "test_datagen = ImageDataGenerator(rescale=1.0/255)\n",
    "\n",
    "train_generator = train_datagen.flow_from_directory(train_dir,\n",
    "                                                    target_size=(img_width, img_height),\n",
    "                                                    batch_size=128,\n",
    "                                                    color_mode=\"grayscale\",                                            \n",
    "                                                    class_mode='categorical')\n",
    "\n",
    "test_generator = test_datagen.flow_from_directory(test_dir,\n",
    "                                                  target_size=(img_width, img_height),\n",
    "                                                  batch_size=128,\n",
    "                                                  color_mode=\"grayscale\",\n",
    "                                                  class_mode='categorical')\n"
   ]
  },
  {
   "cell_type": "code",
   "execution_count": 5,
   "id": "4afbb891",
   "metadata": {},
   "outputs": [
    {
     "name": "stdout",
     "output_type": "stream",
     "text": [
      "_________________________________________________________________\n",
      "Layer (type)                 Output Shape              Param #   \n",
      "=================================================================\n",
      "conv2d_1 (Conv2D)            (None, 46, 46, 256)       2560      \n",
      "_________________________________________________________________\n",
      "max_pooling2d_1 (MaxPooling2 (None, 23, 23, 256)       0         \n",
      "_________________________________________________________________\n",
      "dropout_1 (Dropout)          (None, 23, 23, 256)       0         \n",
      "_________________________________________________________________\n",
      "conv2d_2 (Conv2D)            (None, 21, 21, 512)       1180160   \n",
      "_________________________________________________________________\n",
      "max_pooling2d_2 (MaxPooling2 (None, 10, 10, 512)       0         \n",
      "_________________________________________________________________\n",
      "dropout_2 (Dropout)          (None, 10, 10, 512)       0         \n",
      "_________________________________________________________________\n",
      "conv2d_3 (Conv2D)            (None, 8, 8, 512)         2359808   \n",
      "_________________________________________________________________\n",
      "max_pooling2d_3 (MaxPooling2 (None, 4, 4, 512)         0         \n",
      "_________________________________________________________________\n",
      "dropout_3 (Dropout)          (None, 4, 4, 512)         0         \n",
      "_________________________________________________________________\n",
      "conv2d_4 (Conv2D)            (None, 2, 2, 512)         2359808   \n",
      "_________________________________________________________________\n",
      "max_pooling2d_4 (MaxPooling2 (None, 1, 1, 512)         0         \n",
      "_________________________________________________________________\n",
      "dropout_4 (Dropout)          (None, 1, 1, 512)         0         \n",
      "_________________________________________________________________\n",
      "flatten_1 (Flatten)          (None, 512)               0         \n",
      "_________________________________________________________________\n",
      "dense_1 (Dense)              (None, 512)               262656    \n",
      "_________________________________________________________________\n",
      "dropout_5 (Dropout)          (None, 512)               0         \n",
      "_________________________________________________________________\n",
      "dense_2 (Dense)              (None, 512)               262656    \n",
      "_________________________________________________________________\n",
      "dropout_6 (Dropout)          (None, 512)               0         \n",
      "_________________________________________________________________\n",
      "dense_3 (Dense)              (None, 256)               131328    \n",
      "_________________________________________________________________\n",
      "dropout_7 (Dropout)          (None, 256)               0         \n",
      "_________________________________________________________________\n",
      "dense_4 (Dense)              (None, 7)                 1799      \n",
      "=================================================================\n",
      "Total params: 6,560,775\n",
      "Trainable params: 6,560,775\n",
      "Non-trainable params: 0\n",
      "_________________________________________________________________\n"
     ]
    }
   ],
   "source": [
    "model = Sequential()\n",
    "# convolutional layers\n",
    "model.add(Conv2D(256, kernel_size=(3,3), activation='relu', input_shape=input_shape))\n",
    "model.add(MaxPooling2D(pool_size=(2,2)))\n",
    "model.add(Dropout(0.3))\n",
    "\n",
    "model.add(Conv2D(512, kernel_size=(3,3), activation='relu'))\n",
    "model.add(MaxPooling2D(pool_size=(2,2)))\n",
    "model.add(Dropout(0.3))\n",
    "\n",
    "model.add(Conv2D(512, kernel_size=(3,3), activation='relu'))\n",
    "model.add(MaxPooling2D(pool_size=(2,2)))\n",
    "model.add(Dropout(0.3))\n",
    "\n",
    "model.add(Conv2D(512, kernel_size=(3,3), activation='relu'))\n",
    "model.add(MaxPooling2D(pool_size=(2,2)))\n",
    "model.add(Dropout(0.3))\n",
    "\n",
    "\n",
    "model.add(Flatten())\n",
    "# fully connected layers\n",
    "model.add(Dense(512, activation='relu'))\n",
    "model.add(Dropout(0.3))\n",
    "model.add(Dense(512, activation='relu'))\n",
    "model.add(Dropout(0.3))\n",
    "model.add(Dense(256, activation='relu'))\n",
    "model.add(Dropout(0.3))\n",
    "\n",
    "# output layer\n",
    "model.add(Dense(output_class, activation='softmax'))\n",
    "\n",
    "optimizer = optimizers.Adam(lr=0.0005)\n",
    "model.compile(loss='categorical_crossentropy', optimizer=optimizer, metrics=['accuracy'])\n",
    "model.summary()"
   ]
  },
  {
   "cell_type": "code",
   "execution_count": 6,
   "id": "d06d9964",
   "metadata": {},
   "outputs": [
    {
     "name": "stdout",
     "output_type": "stream",
     "text": [
      "Epoch 1/100\n",
      "224/224 [==============================] - 510s 2s/step - loss: 1.8252 - acc: 0.2478 - val_loss: 1.8124 - val_acc: 0.2490\n",
      "Epoch 2/100\n",
      "224/224 [==============================] - 121s 542ms/step - loss: 1.7928 - acc: 0.2580 - val_loss: 1.7330 - val_acc: 0.2882\n",
      "Epoch 3/100\n",
      "224/224 [==============================] - 121s 539ms/step - loss: 1.6730 - acc: 0.3236 - val_loss: 1.5145 - val_acc: 0.4141\n",
      "Epoch 4/100\n",
      "224/224 [==============================] - 121s 540ms/step - loss: 1.5300 - acc: 0.3974 - val_loss: 1.3641 - val_acc: 0.4710\n",
      "Epoch 5/100\n",
      "224/224 [==============================] - 121s 540ms/step - loss: 1.4363 - acc: 0.4459 - val_loss: 1.2847 - val_acc: 0.5052\n",
      "Epoch 6/100\n",
      "224/224 [==============================] - 123s 549ms/step - loss: 1.3802 - acc: 0.4683 - val_loss: 1.2529 - val_acc: 0.5202\n",
      "Epoch 7/100\n",
      "224/224 [==============================] - 368s 2s/step - loss: 1.3440 - acc: 0.4860 - val_loss: 1.2092 - val_acc: 0.5364\n",
      "Epoch 8/100\n",
      "224/224 [==============================] - 122s 544ms/step - loss: 1.3128 - acc: 0.4987 - val_loss: 1.2106 - val_acc: 0.5413\n",
      "Epoch 9/100\n",
      "224/224 [==============================] - 121s 539ms/step - loss: 1.2866 - acc: 0.5091 - val_loss: 1.1588 - val_acc: 0.5516\n",
      "Epoch 10/100\n",
      "224/224 [==============================] - 121s 539ms/step - loss: 1.2537 - acc: 0.5250 - val_loss: 1.1293 - val_acc: 0.5658\n",
      "Epoch 11/100\n",
      "224/224 [==============================] - 121s 541ms/step - loss: 1.2368 - acc: 0.5329 - val_loss: 1.1317 - val_acc: 0.5645\n",
      "Epoch 12/100\n",
      "224/224 [==============================] - 121s 541ms/step - loss: 1.2187 - acc: 0.5367 - val_loss: 1.1319 - val_acc: 0.5649\n",
      "Epoch 13/100\n",
      "224/224 [==============================] - 121s 542ms/step - loss: 1.2103 - acc: 0.5422 - val_loss: 1.0923 - val_acc: 0.5829\n",
      "Epoch 14/100\n",
      "224/224 [==============================] - 121s 539ms/step - loss: 1.1935 - acc: 0.5468 - val_loss: 1.0816 - val_acc: 0.5871\n",
      "Epoch 15/100\n",
      "224/224 [==============================] - 121s 541ms/step - loss: 1.1744 - acc: 0.5563 - val_loss: 1.0746 - val_acc: 0.5871\n",
      "Epoch 16/100\n",
      "224/224 [==============================] - 121s 539ms/step - loss: 1.1703 - acc: 0.5543 - val_loss: 1.0845 - val_acc: 0.5785\n",
      "Epoch 17/100\n",
      "224/224 [==============================] - 121s 539ms/step - loss: 1.1534 - acc: 0.5642 - val_loss: 1.0583 - val_acc: 0.5984\n",
      "Epoch 18/100\n",
      "224/224 [==============================] - 121s 540ms/step - loss: 1.1444 - acc: 0.5692 - val_loss: 1.0570 - val_acc: 0.5940\n",
      "Epoch 19/100\n",
      "224/224 [==============================] - 121s 540ms/step - loss: 1.1356 - acc: 0.5730 - val_loss: 1.0501 - val_acc: 0.6038\n",
      "Epoch 20/100\n",
      "224/224 [==============================] - 121s 540ms/step - loss: 1.1271 - acc: 0.5746 - val_loss: 1.0520 - val_acc: 0.6052\n",
      "Epoch 21/100\n",
      "224/224 [==============================] - 121s 538ms/step - loss: 1.1202 - acc: 0.5748 - val_loss: 1.0398 - val_acc: 0.6071\n",
      "Epoch 22/100\n",
      "224/224 [==============================] - 121s 539ms/step - loss: 1.1145 - acc: 0.5817 - val_loss: 1.0349 - val_acc: 0.6039\n",
      "Epoch 23/100\n",
      "224/224 [==============================] - 121s 540ms/step - loss: 1.0983 - acc: 0.5875 - val_loss: 1.0263 - val_acc: 0.6117\n",
      "Epoch 24/100\n",
      "224/224 [==============================] - 121s 539ms/step - loss: 1.1085 - acc: 0.5857 - val_loss: 1.0302 - val_acc: 0.6073\n",
      "Epoch 25/100\n",
      "224/224 [==============================] - 121s 539ms/step - loss: 1.0895 - acc: 0.5847 - val_loss: 1.0322 - val_acc: 0.6092\n",
      "Epoch 26/100\n",
      "224/224 [==============================] - 121s 540ms/step - loss: 1.0868 - acc: 0.5916 - val_loss: 1.0296 - val_acc: 0.6052\n",
      "Epoch 27/100\n",
      "224/224 [==============================] - 121s 541ms/step - loss: 1.0799 - acc: 0.5936 - val_loss: 1.0116 - val_acc: 0.6130\n",
      "Epoch 28/100\n",
      "224/224 [==============================] - 121s 541ms/step - loss: 1.0753 - acc: 0.5942 - val_loss: 1.0131 - val_acc: 0.6124\n",
      "Epoch 29/100\n",
      "224/224 [==============================] - 121s 542ms/step - loss: 1.0652 - acc: 0.6018 - val_loss: 1.0087 - val_acc: 0.6155\n",
      "Epoch 30/100\n",
      "224/224 [==============================] - 121s 540ms/step - loss: 1.0667 - acc: 0.5980 - val_loss: 1.0039 - val_acc: 0.6215\n",
      "Epoch 31/100\n",
      "224/224 [==============================] - 121s 541ms/step - loss: 1.0591 - acc: 0.6043 - val_loss: 1.0034 - val_acc: 0.6218\n",
      "Epoch 32/100\n",
      "224/224 [==============================] - 121s 541ms/step - loss: 1.0485 - acc: 0.6053 - val_loss: 0.9984 - val_acc: 0.6219\n",
      "Epoch 33/100\n",
      "224/224 [==============================] - 121s 539ms/step - loss: 1.0481 - acc: 0.6066 - val_loss: 0.9955 - val_acc: 0.6254\n",
      "Epoch 34/100\n",
      "224/224 [==============================] - 122s 543ms/step - loss: 1.0380 - acc: 0.6130 - val_loss: 0.9926 - val_acc: 0.6261\n",
      "Epoch 35/100\n",
      "224/224 [==============================] - 120s 537ms/step - loss: 1.0421 - acc: 0.6106 - val_loss: 0.9982 - val_acc: 0.6236\n",
      "Epoch 36/100\n",
      "224/224 [==============================] - 335s 1s/step - loss: 1.0312 - acc: 0.6154 - val_loss: 0.9907 - val_acc: 0.6288\n",
      "Epoch 37/100\n",
      "224/224 [==============================] - 1477s 7s/step - loss: 1.0370 - acc: 0.6125 - val_loss: 0.9802 - val_acc: 0.6346\n",
      "Epoch 38/100\n",
      "224/224 [==============================] - 1447s 6s/step - loss: 1.0235 - acc: 0.6186 - val_loss: 0.9884 - val_acc: 0.6265\n",
      "Epoch 39/100\n",
      "224/224 [==============================] - 1463s 7s/step - loss: 1.0132 - acc: 0.6204 - val_loss: 0.9771 - val_acc: 0.6318\n",
      "Epoch 40/100\n",
      "224/224 [==============================] - 1453s 6s/step - loss: 1.0144 - acc: 0.6200 - val_loss: 0.9885 - val_acc: 0.6289\n",
      "Epoch 41/100\n",
      "224/224 [==============================] - 1461s 7s/step - loss: 1.0118 - acc: 0.6199 - val_loss: 0.9732 - val_acc: 0.6349\n",
      "Epoch 42/100\n",
      "224/224 [==============================] - 1467s 7s/step - loss: 0.9995 - acc: 0.6234 - val_loss: 0.9856 - val_acc: 0.6323\n",
      "Epoch 43/100\n",
      "224/224 [==============================] - 1471s 7s/step - loss: 0.9991 - acc: 0.6273 - val_loss: 0.9801 - val_acc: 0.6378\n",
      "Epoch 44/100\n",
      "224/224 [==============================] - 1471s 7s/step - loss: 1.0034 - acc: 0.6276 - val_loss: 0.9773 - val_acc: 0.6339\n",
      "Epoch 45/100\n",
      "224/224 [==============================] - 1471s 7s/step - loss: 0.9929 - acc: 0.6248 - val_loss: 0.9794 - val_acc: 0.6364\n",
      "Epoch 46/100\n",
      "224/224 [==============================] - 1463s 7s/step - loss: 0.9907 - acc: 0.6290 - val_loss: 0.9756 - val_acc: 0.6335\n",
      "Epoch 47/100\n",
      "224/224 [==============================] - 1472s 7s/step - loss: 0.9820 - acc: 0.6337 - val_loss: 0.9702 - val_acc: 0.6380\n",
      "Epoch 48/100\n",
      "224/224 [==============================] - 1452s 6s/step - loss: 0.9766 - acc: 0.6323 - val_loss: 0.9741 - val_acc: 0.6391\n",
      "Epoch 49/100\n",
      "224/224 [==============================] - 1476s 7s/step - loss: 0.9685 - acc: 0.6369 - val_loss: 0.9878 - val_acc: 0.6335\n",
      "Epoch 50/100\n",
      "224/224 [==============================] - 1458s 7s/step - loss: 0.9795 - acc: 0.6364 - val_loss: 0.9736 - val_acc: 0.6390\n",
      "Epoch 51/100\n",
      "224/224 [==============================] - 1455s 6s/step - loss: 0.9719 - acc: 0.6374 - val_loss: 0.9681 - val_acc: 0.6433\n",
      "Epoch 52/100\n",
      "224/224 [==============================] - 1474s 7s/step - loss: 0.9632 - acc: 0.6403 - val_loss: 0.9755 - val_acc: 0.6426\n",
      "Epoch 53/100\n",
      "224/224 [==============================] - 1462s 7s/step - loss: 0.9637 - acc: 0.6412 - val_loss: 0.9666 - val_acc: 0.6420\n",
      "Epoch 54/100\n",
      "224/224 [==============================] - 1464s 7s/step - loss: 0.9583 - acc: 0.6440 - val_loss: 0.9564 - val_acc: 0.6449\n",
      "Epoch 55/100\n",
      "224/224 [==============================] - 1455s 6s/step - loss: 0.9584 - acc: 0.6431 - val_loss: 0.9602 - val_acc: 0.6443\n",
      "Epoch 56/100\n",
      "224/224 [==============================] - 1465s 7s/step - loss: 0.9498 - acc: 0.6447 - val_loss: 0.9715 - val_acc: 0.6433\n",
      "Epoch 57/100\n",
      "224/224 [==============================] - 1460s 7s/step - loss: 0.9469 - acc: 0.6469 - val_loss: 0.9617 - val_acc: 0.6429\n",
      "Epoch 58/100\n",
      "224/224 [==============================] - 1469s 7s/step - loss: 0.9535 - acc: 0.6442 - val_loss: 0.9591 - val_acc: 0.6501\n",
      "Epoch 59/100\n",
      "224/224 [==============================] - 1470s 7s/step - loss: 0.9474 - acc: 0.6449 - val_loss: 0.9515 - val_acc: 0.6509\n",
      "Epoch 60/100\n",
      "224/224 [==============================] - 1454s 6s/step - loss: 0.9363 - acc: 0.6487 - val_loss: 0.9533 - val_acc: 0.6496\n"
     ]
    },
    {
     "name": "stdout",
     "output_type": "stream",
     "text": [
      "Epoch 61/100\n",
      "224/224 [==============================] - 1464s 7s/step - loss: 0.9360 - acc: 0.6509 - val_loss: 0.9614 - val_acc: 0.6441\n",
      "Epoch 62/100\n",
      "224/224 [==============================] - 1543s 7s/step - loss: 0.9385 - acc: 0.6511 - val_loss: 0.9654 - val_acc: 0.6420\n",
      "Epoch 63/100\n",
      "224/224 [==============================] - 1456s 7s/step - loss: 0.9377 - acc: 0.6496 - val_loss: 0.9600 - val_acc: 0.6461\n",
      "Epoch 64/100\n",
      "224/224 [==============================] - 1468s 7s/step - loss: 0.9328 - acc: 0.6517 - val_loss: 0.9570 - val_acc: 0.6483\n",
      "Epoch 65/100\n",
      "224/224 [==============================] - 1462s 7s/step - loss: 0.9253 - acc: 0.6537 - val_loss: 0.9471 - val_acc: 0.6546\n",
      "Epoch 66/100\n",
      "224/224 [==============================] - 1461s 7s/step - loss: 0.9250 - acc: 0.6558 - val_loss: 0.9400 - val_acc: 0.6507\n",
      "Epoch 67/100\n",
      "224/224 [==============================] - 1510s 7s/step - loss: 0.9229 - acc: 0.6568 - val_loss: 0.9591 - val_acc: 0.6487\n",
      "Epoch 68/100\n",
      "224/224 [==============================] - 1452s 6s/step - loss: 0.9226 - acc: 0.6584 - val_loss: 0.9581 - val_acc: 0.6456\n",
      "Epoch 69/100\n",
      "224/224 [==============================] - 1460s 7s/step - loss: 0.9109 - acc: 0.6634 - val_loss: 0.9550 - val_acc: 0.6423\n",
      "Epoch 70/100\n",
      "224/224 [==============================] - 1454s 6s/step - loss: 0.9011 - acc: 0.6610 - val_loss: 0.9508 - val_acc: 0.6519\n",
      "Epoch 71/100\n",
      "224/224 [==============================] - 1464s 7s/step - loss: 0.9141 - acc: 0.6581 - val_loss: 0.9549 - val_acc: 0.6551\n",
      "Epoch 72/100\n",
      "224/224 [==============================] - 1469s 7s/step - loss: 0.9058 - acc: 0.6648 - val_loss: 0.9465 - val_acc: 0.6539\n",
      "Epoch 73/100\n",
      "224/224 [==============================] - 1465s 7s/step - loss: 0.9024 - acc: 0.6622 - val_loss: 0.9417 - val_acc: 0.6558\n",
      "Epoch 74/100\n",
      "224/224 [==============================] - 1471s 7s/step - loss: 0.8980 - acc: 0.6644 - val_loss: 0.9511 - val_acc: 0.6553\n",
      "Epoch 75/100\n",
      "224/224 [==============================] - 1459s 7s/step - loss: 0.9024 - acc: 0.6657 - val_loss: 0.9618 - val_acc: 0.6508\n",
      "Epoch 76/100\n",
      "224/224 [==============================] - 1462s 7s/step - loss: 0.8928 - acc: 0.6714 - val_loss: 0.9489 - val_acc: 0.6539\n",
      "Epoch 77/100\n",
      "224/224 [==============================] - 1456s 6s/step - loss: 0.8938 - acc: 0.6694 - val_loss: 0.9599 - val_acc: 0.6477\n",
      "Epoch 78/100\n",
      "224/224 [==============================] - 1469s 7s/step - loss: 0.8894 - acc: 0.6708 - val_loss: 0.9486 - val_acc: 0.6533\n",
      "Epoch 79/100\n",
      "224/224 [==============================] - 1448s 6s/step - loss: 0.8915 - acc: 0.6717 - val_loss: 0.9406 - val_acc: 0.6554\n",
      "Epoch 80/100\n",
      "224/224 [==============================] - 1504s 7s/step - loss: 0.8985 - acc: 0.6669 - val_loss: 0.9458 - val_acc: 0.6525\n",
      "Epoch 81/100\n",
      "224/224 [==============================] - 1535s 7s/step - loss: 0.8785 - acc: 0.6754 - val_loss: 0.9443 - val_acc: 0.6543\n",
      "Epoch 82/100\n",
      "224/224 [==============================] - 1522s 7s/step - loss: 0.8832 - acc: 0.6746 - val_loss: 0.9511 - val_acc: 0.6554\n",
      "Epoch 83/100\n",
      "224/224 [==============================] - 1545s 7s/step - loss: 0.8808 - acc: 0.6731 - val_loss: 0.9486 - val_acc: 0.6553\n"
     ]
    }
   ],
   "source": [
    "early_stopping = EarlyStopping(monitor = 'val_acc',patience=10)\n",
    "\n",
    "history = model.fit_generator(generator=train_generator,\n",
    "                              steps_per_epoch=train_generator.samples // train_generator.batch_size,\n",
    "                              epochs=100,\n",
    "                              validation_data=test_generator,\n",
    "                              validation_steps=test_generator.samples // test_generator.batch_size,\n",
    "                              callbacks=[early_stopping]\n",
    "                             )"
   ]
  },
  {
   "cell_type": "code",
   "execution_count": 13,
   "id": "e21718e3",
   "metadata": {},
   "outputs": [
    {
     "data": {
      "image/png": "[encoded data removed]",
      "text/plain": [
       "<Figure size 432x288 with 1 Axes>"
      ]
     },
     "metadata": {
      "needs_background": "light"
     },
     "output_type": "display_data"
    },
    {
     "data": {
      "image/png": "[encoded data removed]",
      "text/plain": [
       "<Figure size 432x288 with 1 Axes>"
      ]
     },
     "metadata": {
      "needs_background": "light"
     },
     "output_type": "display_data"
    }
   ],
   "source": [
    "# Plot training & validation accuracy values\n",
    "plt.plot(history.history['acc'])\n",
    "plt.plot(history.history['val_acc'])\n",
    "plt.title('Model accuracy')\n",
    "plt.ylabel('Accuracy')\n",
    "plt.xlabel('Epoch')\n",
    "plt.legend(['Train', 'Validation'], loc='upper left')\n",
    "plt.show()\n",
    "\n",
    "# Plot training & validation loss values\n",
    "plt.plot(history.history['loss'])\n",
    "plt.plot(history.history['val_loss'])\n",
    "plt.title('Model loss')\n",
    "plt.ylabel('Loss')\n",
    "plt.xlabel('Epoch')\n",
    "plt.legend(['Train', 'Validation'], loc='upper left')\n",
    "plt.show()"
   ]
  },
  {
   "cell_type": "code",
   "execution_count": 14,
   "id": "de329398",
   "metadata": {},
   "outputs": [
    {
     "name": "stdout",
     "output_type": "stream",
     "text": [
      "Test Loss: 0.9599085652402469\n",
      "Test Accuracy: 0.6512276785714286\n"
     ]
    }
   ],
   "source": [
    "# Evaluate the model on the test data\n",
    "test_loss, test_accuracy = model.evaluate_generator(test_generator, steps=test_generator.samples // test_generator.batch_size)\n",
    "print('Test Loss:', test_loss)\n",
    "print('Test Accuracy:', test_accuracy)"
   ]
  },
  {
   "cell_type": "code",
   "execution_count": 15,
   "id": "bef074e6",
   "metadata": {},
   "outputs": [],
   "source": [
    "y_pred = model.predict_generator(test_generator, steps=test_generator.samples // test_generator.batch_size)"
   ]
  },
  {
   "cell_type": "code",
   "execution_count": 16,
   "id": "bbe9461d",
   "metadata": {},
   "outputs": [
    {
     "data": {
      "text/plain": [
       "array([[7.83878961e-04, 3.84986691e-07, 1.99418310e-02, ...,\n",
       "        8.95471871e-03, 9.70221519e-01, 1.13475326e-05],\n",
       "       [3.35990526e-02, 2.92357348e-04, 6.62113503e-02, ...,\n",
       "        8.59273821e-02, 8.12080979e-01, 3.60478676e-04],\n",
       "       [1.45883523e-05, 6.71613432e-09, 5.85472808e-05, ...,\n",
       "        1.17142722e-01, 4.44349098e-05, 1.77393504e-03],\n",
       "       ...,\n",
       "       [3.58306170e-02, 7.75548106e-04, 1.08789196e-02, ...,\n",
       "        5.47814250e-01, 1.35511503e-01, 7.50520499e-04],\n",
       "       [5.70035815e-01, 2.75579020e-02, 1.13242134e-01, ...,\n",
       "        2.86255907e-02, 2.84768753e-02, 2.29384914e-01],\n",
       "       [2.06558430e-03, 4.37972813e-05, 2.36707274e-03, ...,\n",
       "        6.89084455e-02, 1.30970369e-03, 3.84657807e-03]], dtype=float32)"
      ]
     },
     "execution_count": 16,
     "metadata": {},
     "output_type": "execute_result"
    }
   ],
   "source": [
    "y_pred"
   ]
  },
  {
   "cell_type": "code",
   "execution_count": 17,
   "id": "322d9e0b",
   "metadata": {},
   "outputs": [],
   "source": [
    "y_pred_labels = np.argmax(y_pred, axis=1)"
   ]
  },
  {
   "cell_type": "code",
   "execution_count": 18,
   "id": "0cfa1904",
   "metadata": {},
   "outputs": [
    {
     "data": {
      "text/plain": [
       "array([5, 5, 3, ..., 4, 0, 3], dtype=int64)"
      ]
     },
     "execution_count": 18,
     "metadata": {},
     "output_type": "execute_result"
    }
   ],
   "source": [
    "y_pred_labels"
   ]
  },
  {
   "cell_type": "code",
   "execution_count": 19,
   "id": "b6d14110",
   "metadata": {},
   "outputs": [],
   "source": [
    "y_true_labels = test_generator.classes[:y_pred_labels.shape[0]]"
   ]
  },
  {
   "cell_type": "code",
   "execution_count": 20,
   "id": "a164dc31",
   "metadata": {},
   "outputs": [
    {
     "data": {
      "text/plain": [
       "array([0, 0, 0, ..., 6, 6, 6])"
      ]
     },
     "execution_count": 20,
     "metadata": {},
     "output_type": "execute_result"
    }
   ],
   "source": [
    "y_true_labels"
   ]
  },
  {
   "cell_type": "code",
   "execution_count": 21,
   "id": "b926724e",
   "metadata": {},
   "outputs": [
    {
     "data": {
      "text/plain": [
       "((7168,), (7168,))"
      ]
     },
     "execution_count": 21,
     "metadata": {},
     "output_type": "execute_result"
    }
   ],
   "source": [
    "y_true_labels.shape,y_pred_labels.shape"
   ]
  },
  {
   "cell_type": "code",
   "execution_count": 22,
   "id": "66bbc83d",
   "metadata": {},
   "outputs": [
    {
     "data": {
      "text/plain": [
       "array([[118,   8,  94, 270, 216, 131, 121],\n",
       "       [ 14,   1,   9,  31,  21,  22,  13],\n",
       "       [152,  10, 101, 255, 228, 138, 140],\n",
       "       [243,  15, 180, 447, 422, 230, 237],\n",
       "       [142,   9, 121, 328, 290, 182, 161],\n",
       "       [179,  11, 102, 340, 266, 173, 176],\n",
       "       [ 95,   7,  82, 214, 183, 138, 102]], dtype=int64)"
      ]
     },
     "execution_count": 22,
     "metadata": {},
     "output_type": "execute_result"
    }
   ],
   "source": [
    "confusion_matrix(y_true_labels, y_pred_labels)"
   ]
  },
  {
   "cell_type": "code",
   "execution_count": 1,
   "id": "e0115c87",
   "metadata": {},
   "outputs": [
    {
     "data": {
      "image/png": "[encoded data removed]",
      "text/plain": [
       "<Figure size 720x576 with 2 Axes>"
      ]
     },
     "metadata": {
      "needs_background": "light"
     },
     "output_type": "display_data"
    }
   ],
   "source": [
    "import numpy as np\n",
    "import matplotlib.pyplot as plt\n",
    "\n",
    "confusion_matrix = np.array([[118, 8, 94, 270, 216, 131, 121],\n",
    "                             [14, 1, 9, 31, 21, 22, 13],\n",
    "                             [152, 10, 101, 255, 228, 138, 140],\n",
    "                             [243, 15, 180, 447, 422, 230, 237],\n",
    "                             [142, 9, 121, 328, 290, 182, 161],\n",
    "                             [179, 11, 102, 340, 266, 173, 176],\n",
    "                             [95, 7, 82, 214, 183, 138, 102]])\n",
    "\n",
    "emotions = ['Angry', 'Disgust', 'Fear', 'Happy', 'Neutral', 'Sad', 'Suprise']\n",
    "\n",
    "plt.figure(figsize=(10, 8))\n",
    "plt.imshow(confusion_matrix, cmap='YlGnBu')\n",
    "\n",
    "plt.title('Confusion Matrix')\n",
    "plt.xlabel('Predicted Emotions')\n",
    "plt.ylabel('True Emotions')\n",
    "plt.xticks(np.arange(len(emotions)), emotions, rotation=45)\n",
    "plt.yticks(np.arange(len(emotions)), emotions)\n",
    "plt.colorbar()\n",
    "\n",
    "for i in range(len(emotions)):\n",
    "    for j in range(len(emotions)):\n",
    "        plt.text(j, i, confusion_matrix[i, j], ha='center', va='center', color='black')\n",
    "\n",
    "plt.tight_layout()\n",
    "plt.show()\n"
   ]
  },
  {
   "cell_type": "code",
   "execution_count": 23,
   "id": "85ad87fb",
   "metadata": {},
   "outputs": [
    {
     "name": "stdout",
     "output_type": "stream",
     "text": [
      "              precision    recall  f1-score   support\n",
      "\n",
      "       angry       0.13      0.12      0.12       958\n",
      "     disgust       0.02      0.01      0.01       111\n",
      "        fear       0.15      0.10      0.12      1024\n",
      "       happy       0.24      0.25      0.24      1774\n",
      "     neutral       0.18      0.24      0.20      1233\n",
      "         sad       0.17      0.14      0.15      1247\n",
      "    surprise       0.11      0.12      0.12       821\n",
      "\n",
      "    accuracy                           0.17      7168\n",
      "   macro avg       0.14      0.14      0.14      7168\n",
      "weighted avg       0.17      0.17      0.17      7168\n",
      "\n"
     ]
    }
   ],
   "source": [
    "class_names = list(test_generator.class_indices.keys())\n",
    "classification_rep = classification_report(y_true_labels, y_pred_labels, target_names=class_names)\n",
    "print(classification_rep)"
   ]
  },
  {
   "cell_type": "code",
   "execution_count": 24,
   "id": "da9bee83",
   "metadata": {},
   "outputs": [
    {
     "data": {
      "text/plain": [
       "dict_keys(['angry', 'disgust', 'fear', 'happy', 'neutral', 'sad', 'surprise'])"
      ]
     },
     "execution_count": 24,
     "metadata": {},
     "output_type": "execute_result"
    }
   ],
   "source": [
    "test_generator.class_indices.keys()"
   ]
  },
  {
   "cell_type": "code",
   "execution_count": 25,
   "id": "7426790c",
   "metadata": {},
   "outputs": [
    {
     "data": {
      "text/plain": [
       "['angry', 'disgust', 'fear', 'happy', 'neutral', 'sad', 'surprise']"
      ]
     },
     "execution_count": 25,
     "metadata": {},
     "output_type": "execute_result"
    }
   ],
   "source": [
    "list(test_generator.class_indices.keys())"
   ]
  },
  {
   "cell_type": "code",
   "execution_count": 16,
   "id": "aa5b4899",
   "metadata": {},
   "outputs": [],
   "source": [
    "# Save the model\n",
    "model.save('emotion_model_cnn_final.h5')"
   ]
  },
  {
   "cell_type": "code",
   "execution_count": 17,
   "id": "81d8fd2d",
   "metadata": {},
   "outputs": [],
   "source": [
    "# Load the saved model\n",
    "from keras.models import load_model\n",
    "loaded_model = load_model('emotion_model_cnn_final.h5')"
   ]
  },
  {
   "cell_type": "code",
   "execution_count": 24,
   "id": "964777d4",
   "metadata": {},
   "outputs": [],
   "source": [
    "# Make predictions on the test data\n",
    "predictions = model.predict_generator(test_generator, steps=test_generator.samples // test_generator.batch_size)\n",
    "predicted_labels = np.argmax(predictions, axis=1)"
   ]
  },
  {
   "cell_type": "code",
   "execution_count": 25,
   "id": "e2608630",
   "metadata": {},
   "outputs": [
    {
     "data": {
      "text/plain": [
       "array([3, 4, 3, ..., 3, 0, 3], dtype=int64)"
      ]
     },
     "execution_count": 25,
     "metadata": {},
     "output_type": "execute_result"
    }
   ],
   "source": [
    "predicted_labels"
   ]
  },
  {
   "cell_type": "code",
   "execution_count": 22,
   "id": "b989a828",
   "metadata": {},
   "outputs": [
    {
     "name": "stdout",
     "output_type": "stream",
     "text": [
      "Predicted Class Names: ['happy', 'happy', 'sad', 'happy', 'happy', 'neutral', 'angry', 'angry', 'neutral', 'surprise']\n"
     ]
    }
   ],
   "source": [
    "# Map the predicted labels to class names\n",
    "class_names = train_generator.class_indices\n",
    "class_names = dict((v, k) for k, v in class_names.items())\n",
    "predicted_class_names = [class_names[label] for label in predicted_labels]\n",
    "\n",
    "# Print the predicted class names for the first few samples\n",
    "print('Predicted Class Names:', predicted_class_names[:10])"
   ]
  },
  {
   "cell_type": "code",
   "execution_count": 26,
   "id": "2aa3da81",
   "metadata": {},
   "outputs": [
    {
     "data": {
      "image/png": "[encoded data removed]",
      "text/plain": [
       "<Figure size 432x288 with 1 Axes>"
      ]
     },
     "metadata": {
      "needs_background": "light"
     },
     "output_type": "display_data"
    }
   ],
   "source": [
    "from keras.preprocessing import image\n",
    "import numpy as np\n",
    "import cv2\n",
    "\n",
    "# Load and preprocess the input image\n",
    "image_path = 'test/angry/PrivateTest_1221822.jpg'\n",
    "img = image.load_img(image_path, target_size=(img_width, img_height))\n",
    "img = image.img_to_array(img)\n",
    "img = cv2.cvtColor(img, cv2.COLOR_RGB2GRAY)  # Convert to grayscale\n",
    "img = np.expand_dims(img, axis=0)\n",
    "img = np.expand_dims(img, axis=-1)\n",
    "img = img / 255.0  # Normalize pixel values to [0, 1]\n",
    "\n",
    "# Make a prediction on the input image\n",
    "prediction = loaded_model.predict(img)\n",
    "predicted_label = np.argmax(prediction)\n",
    "\n",
    "# Map the predicted label to class name\n",
    "class_names = train_generator.class_indices\n",
    "class_names = dict((v, k) for k, v in class_names.items())\n",
    "predicted_class_name = class_names[predicted_label]\n",
    "\n",
    "# Display the input image and predicted class name\n",
    "plt.imshow(np.squeeze(img), cmap='gray')\n",
    "plt.axis('off')\n",
    "plt.title('Predicted Class: ' + predicted_class_name)\n",
    "plt.show()\n"
   ]
  },
  {
   "cell_type": "code",
   "execution_count": 27,
   "id": "1c9f93e6",
   "metadata": {},
   "outputs": [
    {
     "data": {
      "image/png": "[encoded data removed]",
      "text/plain": [
       "<Figure size 432x288 with 1 Axes>"
      ]
     },
     "metadata": {
      "needs_background": "light"
     },
     "output_type": "display_data"
    }
   ],
   "source": [
    "# Load and preprocess the input image\n",
    "image_path = 'test/disgust/PublicTest_57583458.jpg'\n",
    "img = image.load_img(image_path, target_size=(img_width, img_height))\n",
    "img = image.img_to_array(img)\n",
    "img = cv2.cvtColor(img, cv2.COLOR_RGB2GRAY)  # Convert to grayscale\n",
    "img = np.expand_dims(img, axis=0)\n",
    "img = np.expand_dims(img, axis=-1)\n",
    "img = img / 255.0  # Normalize pixel values to [0, 1]\n",
    "\n",
    "# Make a prediction on the input image\n",
    "prediction = loaded_model.predict(img)\n",
    "predicted_label = np.argmax(prediction)\n",
    "\n",
    "# Map the predicted label to class name\n",
    "class_names = train_generator.class_indices\n",
    "class_names = dict((v, k) for k, v in class_names.items())\n",
    "predicted_class_name = class_names[predicted_label]\n",
    "\n",
    "# Display the input image and predicted class name\n",
    "plt.imshow(np.squeeze(img), cmap='gray')\n",
    "plt.axis('off')\n",
    "plt.title('Predicted Class: ' + predicted_class_name)\n",
    "plt.show()\n"
   ]
  },
  {
   "cell_type": "code",
   "execution_count": 28,
   "id": "7e6c7e88",
   "metadata": {},
   "outputs": [
    {
     "data": {
      "image/png": "[encoded data removed]",
      "text/plain": [
       "<Figure size 432x288 with 1 Axes>"
      ]
     },
     "metadata": {
      "needs_background": "light"
     },
     "output_type": "display_data"
    }
   ],
   "source": [
    "# Load and preprocess the input image\n",
    "image_path = 'test/angry/PrivateTest_31103368.jpg'\n",
    "img = image.load_img(image_path, target_size=(img_width, img_height))\n",
    "img = image.img_to_array(img)\n",
    "img = cv2.cvtColor(img, cv2.COLOR_RGB2GRAY)  # Convert to grayscale\n",
    "img = np.expand_dims(img, axis=0)\n",
    "img = np.expand_dims(img, axis=-1)\n",
    "img = img / 255.0  # Normalize pixel values to [0, 1]\n",
    "\n",
    "# Make a prediction on the input image\n",
    "prediction = loaded_model.predict(img)\n",
    "predicted_label = np.argmax(prediction)\n",
    "\n",
    "# Map the predicted label to class name\n",
    "class_names = train_generator.class_indices\n",
    "class_names = dict((v, k) for k, v in class_names.items())\n",
    "predicted_class_name = class_names[predicted_label]\n",
    "\n",
    "# Display the input image and predicted class name\n",
    "plt.imshow(np.squeeze(img), cmap='gray')\n",
    "plt.axis('off')\n",
    "plt.title('Predicted Class: ' + predicted_class_name)\n",
    "plt.show()\n"
   ]
  }
 ],
 "metadata": {
  "kernelspec": {
   "display_name": "Python 3",
   "language": "python",
   "name": "python3"
  },
  "language_info": {
   "codemirror_mode": {
    "name": "ipython",
    "version": 3
   },
   "file_extension": ".py",
   "mimetype": "text/x-python",
   "name": "python",
   "nbconvert_exporter": "python",
   "pygments_lexer": "ipython3",
   "version": "3.6.13"
  }
 },
 "nbformat": 4,
 "nbformat_minor": 5
}
